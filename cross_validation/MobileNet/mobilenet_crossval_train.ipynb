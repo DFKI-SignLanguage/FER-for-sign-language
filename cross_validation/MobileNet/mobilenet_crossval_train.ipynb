{
 "cells": [
  {
   "cell_type": "code",
   "execution_count": 2,
   "id": "e8569891",
   "metadata": {},
   "outputs": [
    {
     "name": "stderr",
     "output_type": "stream",
     "text": [
      "WARNING: Ignoring invalid distribution -ip (c:\\users\\hp\\appdata\\roaming\\python\\python38\\site-packages)\n",
      "WARNING: Ignoring invalid distribution -ip (c:\\users\\hp\\appdata\\roaming\\python\\python38\\site-packages)\n",
      "WARNING: Ignoring invalid distribution -ip (c:\\users\\hp\\appdata\\roaming\\python\\python38\\site-packages)\n",
      "WARNING: Ignoring invalid distribution -ip (c:\\users\\hp\\appdata\\roaming\\python\\python38\\site-packages)\n",
      "WARNING: Ignoring invalid distribution -ip (c:\\users\\hp\\appdata\\roaming\\python\\python38\\site-packages)\n",
      "WARNING: Ignoring invalid distribution -ip (c:\\users\\hp\\appdata\\roaming\\python\\python38\\site-packages)\n",
      "WARNING: You are using pip version 21.2.4; however, version 21.3 is available.\n",
      "You should consider upgrading via the 'c:\\program files\\python38\\python.exe -m pip install --upgrade pip' command.\n"
     ]
    }
   ],
   "source": [
    "!pip install -q tensorflow\n",
    "\n",
    "import numpy as np\n",
    "import tensorflow as tf\n",
    "import random as rn"
   ]
  },
  {
   "cell_type": "code",
   "execution_count": 3,
   "id": "66b5cc42",
   "metadata": {},
   "outputs": [],
   "source": [
    "import os\n",
    "os.environ['PYTHONHASHSEED'] = '0'\n",
    "\n",
    "np.random.seed(37)\n",
    "rn.seed(1254)\n",
    "tf.random.set_seed(89)"
   ]
  },
  {
   "cell_type": "code",
   "execution_count": 4,
   "id": "421284b3",
   "metadata": {},
   "outputs": [],
   "source": [
    "from tensorflow.python.keras import backend as K\n",
    "\n",
    "# force tensorflow to use a single thread\n",
    "config = tf.compat.v1.ConfigProto()\n",
    "config.gpu_options.allow_growth = True\n",
    "sess=tf.compat.v1.Session(graph=tf.compat.v1.get_default_graph(),config=config)\n",
    "K.set_session(sess)"
   ]
  },
  {
   "cell_type": "code",
   "execution_count": 5,
   "id": "eaeac896",
   "metadata": {},
   "outputs": [
    {
     "name": "stdout",
     "output_type": "stream",
     "text": [
      "Segmentation Models: using `tf.keras` framework.\n"
     ]
    },
    {
     "name": "stderr",
     "output_type": "stream",
     "text": [
      "Using TensorFlow backend.\n"
     ]
    }
   ],
   "source": [
    "## Imports libs\n",
    "os.environ['CUDA_VISIBLE_DEVICES'] = '0'\n",
    "os.environ[\"SM_FRAMEWORK\"] = \"tf.keras\"\n",
    "\n",
    "from tensorflow import keras\n",
    "import segmentation_models as sm\n",
    "\n",
    "from tensorflow.keras import layers\n",
    "from keras.models import Model\n",
    "from tensorflow.keras.models import load_model\n",
    "from tensorflow.keras.models import Sequential\n",
    "from tensorflow.keras.layers import Dense\n",
    "from tensorflow.keras.optimizers import SGD, Adam"
   ]
  },
  {
   "cell_type": "code",
   "execution_count": 6,
   "id": "4d14a2b9",
   "metadata": {},
   "outputs": [
    {
     "name": "stderr",
     "output_type": "stream",
     "text": [
      "WARNING: Ignoring invalid distribution -ip (c:\\users\\hp\\appdata\\roaming\\python\\python38\\site-packages)\n",
      "WARNING: Ignoring invalid distribution -ip (c:\\users\\hp\\appdata\\roaming\\python\\python38\\site-packages)\n",
      "WARNING: Ignoring invalid distribution -ip (c:\\users\\hp\\appdata\\roaming\\python\\python38\\site-packages)\n",
      "WARNING: Ignoring invalid distribution -ip (c:\\users\\hp\\appdata\\roaming\\python\\python38\\site-packages)\n",
      "WARNING: Ignoring invalid distribution -ip (c:\\users\\hp\\appdata\\roaming\\python\\python38\\site-packages)\n",
      "WARNING: Ignoring invalid distribution -ip (c:\\users\\hp\\appdata\\roaming\\python\\python38\\site-packages)\n",
      "WARNING: You are using pip version 21.2.4; however, version 21.3 is available.\n",
      "You should consider upgrading via the 'c:\\program files\\python38\\python.exe -m pip install --upgrade pip' command.\n",
      "WARNING: Ignoring invalid distribution -ip (c:\\users\\hp\\appdata\\roaming\\python\\python38\\site-packages)\n",
      "WARNING: Ignoring invalid distribution -ip (c:\\users\\hp\\appdata\\roaming\\python\\python38\\site-packages)\n",
      "WARNING: Ignoring invalid distribution -ip (c:\\users\\hp\\appdata\\roaming\\python\\python38\\site-packages)\n",
      "WARNING: Ignoring invalid distribution -ip (c:\\users\\hp\\appdata\\roaming\\python\\python38\\site-packages)\n",
      "WARNING: Ignoring invalid distribution -ip (c:\\users\\hp\\appdata\\roaming\\python\\python38\\site-packages)\n",
      "WARNING: Ignoring invalid distribution -ip (c:\\users\\hp\\appdata\\roaming\\python\\python38\\site-packages)\n",
      "WARNING: You are using pip version 21.2.4; however, version 21.3 is available.\n",
      "You should consider upgrading via the 'c:\\program files\\python38\\python.exe -m pip install --upgrade pip' command.\n",
      "WARNING: Ignoring invalid distribution -ip (c:\\users\\hp\\appdata\\roaming\\python\\python38\\site-packages)\n",
      "WARNING: Ignoring invalid distribution -ip (c:\\users\\hp\\appdata\\roaming\\python\\python38\\site-packages)\n",
      "WARNING: Ignoring invalid distribution -ip (c:\\users\\hp\\appdata\\roaming\\python\\python38\\site-packages)\n",
      "WARNING: Ignoring invalid distribution -ip (c:\\users\\hp\\appdata\\roaming\\python\\python38\\site-packages)\n",
      "WARNING: Ignoring invalid distribution -ip (c:\\users\\hp\\appdata\\roaming\\python\\python38\\site-packages)\n",
      "WARNING: Ignoring invalid distribution -ip (c:\\users\\hp\\appdata\\roaming\\python\\python38\\site-packages)\n",
      "WARNING: You are using pip version 21.2.4; however, version 21.3 is available.\n",
      "You should consider upgrading via the 'c:\\program files\\python38\\python.exe -m pip install --upgrade pip' command.\n"
     ]
    }
   ],
   "source": [
    "!pip install -U -q segmentation-models\n",
    "!pip install -q keras\n",
    "!pip install -q tensorflow-estimator\n",
    "\n",
    "import pandas as pd\n",
    "import cv2\n",
    "from sklearn.preprocessing import LabelEncoder\n",
    "import matplotlib.pyplot as plt\n",
    "from PIL import Image\n",
    "from random import shuffle\n",
    "from tqdm import tqdm\n",
    "import pandas as pd\n",
    "from sklearn.utils import class_weight\n",
    "\n",
    "import pickle\n",
    "\n",
    "from sklearn.svm import SVC,LinearSVC\n",
    "from sklearn.ensemble import RandomForestClassifier, BaggingClassifier,ExtraTreesClassifier\n",
    "from sklearn.neural_network import MLPClassifier\n",
    "from sklearn import preprocessing\n",
    "import matplotlib.pyplot as plt\n",
    "import matplotlib.image as mpimg\n",
    "from tensorflow.keras.preprocessing.image import ImageDataGenerator\n",
    "from sklearn.metrics import confusion_matrix\n",
    "\n",
    "from tensorflow.keras.models import Model,Sequential, load_model,model_from_json\n",
    "from tensorflow.keras.applications import mobilenet,mobilenet_v2,densenet,inception_resnet_v2,inception_v3,vgg16,resnet_v2,resnet\n",
    "#from tensorflow.keras.utils.generic_utils import CustomObjectScope\n",
    "from tensorflow.keras.layers import Flatten, Dropout,GlobalAveragePooling2D,Activation, Conv2D, Reshape,DepthwiseConv2D,Input\n",
    "from tensorflow.keras.utils import to_categorical\n",
    "from tensorflow.keras.callbacks import ModelCheckpoint, TensorBoard, Callback, CSVLogger, EarlyStopping\n",
    "from tensorflow.keras.metrics import top_k_categorical_accuracy\n",
    "from sklearn.metrics import confusion_matrix"
   ]
  },
  {
   "cell_type": "code",
   "execution_count": 7,
   "id": "441d0d7e",
   "metadata": {},
   "outputs": [],
   "source": [
    "BATCH_SIZE=80\n",
    "INPUT_SIZE = (224, 224)"
   ]
  },
  {
   "cell_type": "code",
   "execution_count": 8,
   "id": "bcd5fe43",
   "metadata": {},
   "outputs": [],
   "source": [
    "def mobilenet_preprocess_input(x,**kwargs):\n",
    "    x[..., 0] -= 103.939\n",
    "    x[..., 1] -= 116.779\n",
    "    x[..., 2] -= 123.68\n",
    "    return x\n",
    "preprocessing_function=mobilenet_preprocess_input\n",
    "        \n",
    "BATCH_SIZE=80\n",
    "INPUT_SIZE = (224, 224)"
   ]
  },
  {
   "cell_type": "code",
   "execution_count": 8,
   "id": "81b775f9",
   "metadata": {},
   "outputs": [
    {
     "name": "stdout",
     "output_type": "stream",
     "text": [
      "Found 2024 images belonging to 7 classes.\n",
      "Found 2024 images belonging to 7 classes.\n",
      "Found 2024 images belonging to 7 classes.\n",
      "Found 2024 images belonging to 7 classes.\n",
      "Found 2024 images belonging to 7 classes.\n"
     ]
    }
   ],
   "source": [
    "target_size = (224, 224)\n",
    "\n",
    "train_datagen = ImageDataGenerator(preprocessing_function=preprocessing_function, horizontal_flip = True)\n",
    "\n",
    "training_set_1 = train_datagen.flow_from_directory(r'C:\\Users\\HP\\SLR\\crossVal\\Data\\fold_1_c\\train_files',\n",
    "                                                 target_size=target_size,\n",
    "                                                 batch_size=BATCH_SIZE, class_mode='categorical',follow_links=True)\n",
    "\n",
    "\n",
    "training_set_2 = train_datagen.flow_from_directory(r'C:\\Users\\HP\\SLR\\crossVal\\Data\\fold_2_c\\train_files',\n",
    "                                                 target_size=target_size,\n",
    "                                                 batch_size=BATCH_SIZE, class_mode='categorical',follow_links=True)\n",
    "\n",
    "\n",
    "training_set_3 = train_datagen.flow_from_directory(r'C:\\Users\\HP\\SLR\\crossVal\\Data\\fold_3_c\\train_files',\n",
    "                                                 target_size=target_size,\n",
    "                                                 batch_size=BATCH_SIZE, class_mode='categorical',follow_links=True)\n",
    "\n",
    "\n",
    "training_set_4 = train_datagen.flow_from_directory(r'C:\\Users\\HP\\SLR\\crossVal\\Data\\fold_4_c\\train_files',\n",
    "                                                 target_size=target_size,\n",
    "                                                 batch_size=BATCH_SIZE, class_mode='categorical',follow_links=True)\n",
    "\n",
    "\n",
    "training_set_5 = train_datagen.flow_from_directory(r'C:\\Users\\HP\\SLR\\crossVal\\Data\\fold_5_c\\train_files',\n",
    "                                                 target_size=target_size,\n",
    "                                                 batch_size=BATCH_SIZE, class_mode='categorical',follow_links=True)\n",
    "\n",
    "training_set = [training_set_1, training_set_2, training_set_3, training_set_4, training_set_5]"
   ]
  },
  {
   "cell_type": "code",
   "execution_count": 9,
   "id": "2b201441",
   "metadata": {},
   "outputs": [
    {
     "name": "stdout",
     "output_type": "stream",
     "text": [
      "Found 507 images belonging to 7 classes.\n",
      "Found 507 images belonging to 7 classes.\n",
      "Found 507 images belonging to 7 classes.\n",
      "Found 507 images belonging to 7 classes.\n",
      "Found 507 images belonging to 7 classes.\n"
     ]
    }
   ],
   "source": [
    "test_datagen = ImageDataGenerator(preprocessing_function=preprocessing_function)\n",
    "\n",
    "\n",
    "test_set_1 = test_datagen.flow_from_directory(r'C:\\Users\\HP\\SLR\\crossVal\\Data\\fold_1_c\\test_files',\n",
    "                                            target_size=target_size,\n",
    "                                            batch_size=BATCH_SIZE, class_mode='categorical',follow_links=True)\n",
    "\n",
    "\n",
    "test_set_2 = test_datagen.flow_from_directory(r'C:\\Users\\HP\\SLR\\crossVal\\Data\\fold_2_c\\test_files',\n",
    "                                            target_size=target_size,\n",
    "                                            batch_size=BATCH_SIZE, class_mode='categorical',follow_links=True)\n",
    "\n",
    "\n",
    "test_set_3 = test_datagen.flow_from_directory(r'C:\\Users\\HP\\SLR\\crossVal\\Data\\fold_3_c\\test_files',\n",
    "                                            target_size=target_size,\n",
    "                                            batch_size=BATCH_SIZE, class_mode='categorical',follow_links=True)\n",
    "\n",
    "\n",
    "test_set_4 = test_datagen.flow_from_directory(r'C:\\Users\\HP\\SLR\\crossVal\\Data\\fold_4_c\\test_files',\n",
    "                                            target_size=target_size,\n",
    "                                            batch_size=BATCH_SIZE, class_mode='categorical',follow_links=True)\n",
    "\n",
    "\n",
    "test_set_5 = test_datagen.flow_from_directory(r'C:\\Users\\HP\\SLR\\crossVal\\Data\\fold_5_c\\test_files',\n",
    "                                            target_size=target_size,\n",
    "                                            batch_size=BATCH_SIZE, class_mode='categorical',follow_links=True)\n",
    "\n",
    "testing_set = [test_set_1, test_set_2, test_set_3, test_set_4, test_set_5]"
   ]
  },
  {
   "cell_type": "markdown",
   "id": "45559ebb",
   "metadata": {},
   "source": [
    "# Training "
   ]
  },
  {
   "cell_type": "code",
   "execution_count": 9,
   "id": "64d67c85",
   "metadata": {},
   "outputs": [],
   "source": [
    "def log_progress(sequence, every=None, size=None, name='Items'):\n",
    "    from ipywidgets import IntProgress, HTML, VBox\n",
    "    from IPython.display import display\n",
    "\n",
    "    is_iterator = False\n",
    "    if size is None:\n",
    "        try:\n",
    "            size = len(sequence)\n",
    "        except TypeError:\n",
    "            is_iterator = True\n",
    "    if size is not None:\n",
    "        if every is None:\n",
    "            if size <= 200:\n",
    "                every = 1\n",
    "            else:\n",
    "                every = int(size / 200)     # every 0.5%\n",
    "    else:\n",
    "        assert every is not None, 'sequence is iterator, set every'\n",
    "\n",
    "    if is_iterator:\n",
    "        progress = IntProgress(min=0, max=1, value=1)\n",
    "        progress.bar_style = 'info'\n",
    "    else:\n",
    "        progress = IntProgress(min=0, max=size, value=0)\n",
    "    label = HTML()\n",
    "    box = VBox(children=[label, progress])\n",
    "    display(box)\n",
    "\n",
    "    index = 0\n",
    "    try:\n",
    "        for index, record in enumerate(sequence, 1):\n",
    "            if index == 1 or index % every == 0:\n",
    "                if is_iterator:\n",
    "                    label.value = '{name}: {index} / ?'.format(\n",
    "                        name=name,\n",
    "                        index=index\n",
    "                    )\n",
    "                else:\n",
    "                    progress.value = index\n",
    "                    label.value = u'{name}: {index} / {size}'.format(\n",
    "                        name=name,\n",
    "                        index=index,\n",
    "                        size=size\n",
    "                    )\n",
    "            yield record\n",
    "    except:\n",
    "        progress.bar_style = 'danger'\n",
    "        raise\n",
    "    else:\n",
    "        progress.bar_style = 'success'\n",
    "        progress.value = index\n",
    "        label.value = \"{name}: {index}\".format(\n",
    "            name=name,\n",
    "            index=str(index or '?')\n",
    "        )"
   ]
  },
  {
   "cell_type": "code",
   "execution_count": 11,
   "id": "0e91058c",
   "metadata": {},
   "outputs": [
    {
     "name": "stdout",
     "output_type": "stream",
     "text": [
      "WARNING:tensorflow:No training configuration found in the save file, so the model was *not* compiled. Compile it manually.\n",
      "Training model number: 1\n",
      "Training on the last layer:\n",
      "Epoch 1/3\n",
      "25/25 [==============================] - 69s 3s/step - loss: 2.3172 - accuracy: 0.1091 - val_loss: 1.9352 - val_accuracy: 0.1646\n",
      "\n",
      "Epoch 00001: val_accuracy improved from -inf to 0.16458, saving model to Model_1.h5\n",
      "Epoch 2/3\n",
      "25/25 [==============================] - 78s 3s/step - loss: 1.7346 - accuracy: 0.3318 - val_loss: 1.6907 - val_accuracy: 0.3250\n",
      "\n",
      "Epoch 00002: val_accuracy improved from 0.16458 to 0.32500, saving model to Model_1.h5\n",
      "Epoch 3/3\n",
      "25/25 [==============================] - 75s 3s/step - loss: 1.5363 - accuracy: 0.4434 - val_loss: 1.5518 - val_accuracy: 0.4042\n",
      "\n",
      "Epoch 00003: val_accuracy improved from 0.32500 to 0.40417, saving model to Model_1.h5\n",
      "All tuning\n",
      "Epoch 4/8\n",
      "25/25 [==============================] - 339s 13s/step - loss: 1.3752 - accuracy: 0.5062 - val_loss: 1.3769 - val_accuracy: 0.4500\n",
      "\n",
      "Epoch 00004: val_accuracy improved from -inf to 0.45000, saving model to Model_1_ft.h5\n",
      "Epoch 5/8\n",
      "25/25 [==============================] - 297s 12s/step - loss: 1.0750 - accuracy: 0.6204 - val_loss: 1.2456 - val_accuracy: 0.4938\n",
      "\n",
      "Epoch 00005: val_accuracy improved from 0.45000 to 0.49375, saving model to Model_1_ft.h5\n",
      "Epoch 6/8\n",
      "25/25 [==============================] - 293s 12s/step - loss: 0.8825 - accuracy: 0.6934 - val_loss: 1.1574 - val_accuracy: 0.5667\n",
      "\n",
      "Epoch 00006: val_accuracy improved from 0.49375 to 0.56667, saving model to Model_1_ft.h5\n",
      "Epoch 7/8\n",
      "25/25 [==============================] - 297s 12s/step - loss: 0.7517 - accuracy: 0.7465 - val_loss: 1.1060 - val_accuracy: 0.6250\n",
      "\n",
      "Epoch 00007: val_accuracy improved from 0.56667 to 0.62500, saving model to Model_1_ft.h5\n",
      "Epoch 8/8\n",
      "25/25 [==============================] - 304s 12s/step - loss: 0.6564 - accuracy: 0.7803 - val_loss: 1.0482 - val_accuracy: 0.6500\n",
      "\n",
      "Epoch 00008: val_accuracy improved from 0.62500 to 0.65000, saving model to Model_1_ft.h5\n",
      "ALL SGD tuning\n"
     ]
    },
    {
     "name": "stderr",
     "output_type": "stream",
     "text": [
      "c:\\program files\\python38\\lib\\site-packages\\tensorflow\\python\\keras\\engine\\training.py:1940: UserWarning: `Model.fit_generator` is deprecated and will be removed in a future version. Please use `Model.fit`, which supports generators.\n",
      "  warnings.warn('`Model.fit_generator` is deprecated and '\n"
     ]
    },
    {
     "name": "stdout",
     "output_type": "stream",
     "text": [
      "Epoch 9/10\n",
      "25/25 [==============================] - 309s 12s/step - loss: 0.5646 - accuracy: 0.8076 - val_loss: 1.0514 - val_accuracy: 0.6458\n",
      "\n",
      "Epoch 00009: val_accuracy improved from -inf to 0.64583, saving model to Model_1_ft_sgd.h5\n",
      "Epoch 10/10\n",
      "25/25 [==============================] - 285s 11s/step - loss: 0.5794 - accuracy: 0.8014 - val_loss: 1.0452 - val_accuracy: 0.6562\n",
      "\n",
      "Epoch 00010: val_accuracy improved from 0.64583 to 0.65625, saving model to Model_1_ft_sgd.h5\n",
      "Model number: 1 compiled!\n"
     ]
    },
    {
     "data": {
      "application/vnd.jupyter.widget-view+json": {
       "model_id": "b2105053a0d44abca1b8a68560f5e98a",
       "version_major": 2,
       "version_minor": 0
      },
      "text/plain": [
       "VBox(children=(HTML(value=''), IntProgress(value=0, max=507)))"
      ]
     },
     "metadata": {},
     "output_type": "display_data"
    },
    {
     "name": "stdout",
     "output_type": "stream",
     "text": [
      "Accuracy: 66.0749506903353\n",
      "Anger 359/144 acc: 66.666667\n",
      "Disgust 132/55 acc: 58.181818\n",
      "Fear 254/54 acc: 29.629630\n",
      "Happiness 155/24 acc: 54.166667\n",
      "Neutral 164/31 acc: 83.870968\n",
      "Sadness 298/51 acc: 35.294118\n",
      "Surprise 662/148 acc: 90.540541\n",
      "              precision    recall  f1-score   support\n",
      "\n",
      "       Anger       0.70      0.67      0.68       144\n",
      "     Disgust       0.64      0.58      0.61        55\n",
      "        Fear       0.43      0.30      0.35        54\n",
      "       Happy       0.62      0.54      0.58        24\n",
      "     Neutral       0.70      0.84      0.76        31\n",
      "     Sadness       0.43      0.35      0.39        51\n",
      "    Surprise       0.73      0.91      0.81       148\n",
      "\n",
      "    accuracy                           0.66       507\n",
      "   macro avg       0.61      0.60      0.60       507\n",
      "weighted avg       0.64      0.66      0.65       507\n",
      "\n",
      "WARNING:tensorflow:No training configuration found in the save file, so the model was *not* compiled. Compile it manually.\n",
      "Training model number: 2\n",
      "Training on the last layer:\n",
      "Epoch 1/3\n",
      "25/25 [==============================] - 72s 3s/step - loss: 1.8824 - accuracy: 0.2495 - val_loss: 1.7525 - val_accuracy: 0.3271\n",
      "\n",
      "Epoch 00001: val_accuracy improved from -inf to 0.32708, saving model to Model_2.h5\n",
      "Epoch 2/3\n",
      "25/25 [==============================] - 66s 3s/step - loss: 1.5826 - accuracy: 0.4012 - val_loss: 1.5494 - val_accuracy: 0.4333\n",
      "\n",
      "Epoch 00002: val_accuracy improved from 0.32708 to 0.43333, saving model to Model_2.h5\n",
      "Epoch 3/3\n",
      "25/25 [==============================] - 67s 3s/step - loss: 1.4618 - accuracy: 0.4465 - val_loss: 1.4562 - val_accuracy: 0.4646\n",
      "\n",
      "Epoch 00003: val_accuracy improved from 0.43333 to 0.46458, saving model to Model_2.h5\n",
      "All tuning\n",
      "Epoch 4/8\n",
      "25/25 [==============================] - 283s 11s/step - loss: 1.2869 - accuracy: 0.5365 - val_loss: 1.5263 - val_accuracy: 0.4375\n",
      "\n",
      "Epoch 00004: val_accuracy improved from -inf to 0.43750, saving model to Model_2_ft.h5\n",
      "Epoch 5/8\n",
      "25/25 [==============================] - 291s 12s/step - loss: 1.0151 - accuracy: 0.6420 - val_loss: 1.3150 - val_accuracy: 0.5375\n",
      "\n",
      "Epoch 00005: val_accuracy improved from 0.43750 to 0.53750, saving model to Model_2_ft.h5\n",
      "Epoch 6/8\n",
      "25/25 [==============================] - 306s 12s/step - loss: 0.8422 - accuracy: 0.7135 - val_loss: 1.2262 - val_accuracy: 0.5583\n",
      "\n",
      "Epoch 00006: val_accuracy improved from 0.53750 to 0.55833, saving model to Model_2_ft.h5\n",
      "Epoch 7/8\n",
      "25/25 [==============================] - 317s 13s/step - loss: 0.7408 - accuracy: 0.7551 - val_loss: 1.1611 - val_accuracy: 0.5771\n",
      "\n",
      "Epoch 00007: val_accuracy improved from 0.55833 to 0.57708, saving model to Model_2_ft.h5\n",
      "Epoch 8/8\n",
      "25/25 [==============================] - 309s 12s/step - loss: 0.6271 - accuracy: 0.7922 - val_loss: 1.1366 - val_accuracy: 0.5875\n",
      "\n",
      "Epoch 00008: val_accuracy improved from 0.57708 to 0.58750, saving model to Model_2_ft.h5\n",
      "ALL SGD tuning\n"
     ]
    },
    {
     "name": "stderr",
     "output_type": "stream",
     "text": [
      "c:\\program files\\python38\\lib\\site-packages\\tensorflow\\python\\keras\\engine\\training.py:1940: UserWarning: `Model.fit_generator` is deprecated and will be removed in a future version. Please use `Model.fit`, which supports generators.\n",
      "  warnings.warn('`Model.fit_generator` is deprecated and '\n"
     ]
    },
    {
     "name": "stdout",
     "output_type": "stream",
     "text": [
      "Epoch 9/10\n",
      "25/25 [==============================] - 295s 11s/step - loss: 0.5335 - accuracy: 0.8313 - val_loss: 1.1186 - val_accuracy: 0.5896\n",
      "\n",
      "Epoch 00009: val_accuracy improved from -inf to 0.58958, saving model to Model_2_ft_sgd.h5\n",
      "Epoch 10/10\n",
      "25/25 [==============================] - 286s 11s/step - loss: 0.5453 - accuracy: 0.8272 - val_loss: 1.1305 - val_accuracy: 0.5917\n",
      "\n",
      "Epoch 00010: val_accuracy improved from 0.58958 to 0.59167, saving model to Model_2_ft_sgd.h5\n",
      "Model number: 2 compiled!\n"
     ]
    },
    {
     "data": {
      "application/vnd.jupyter.widget-view+json": {
       "model_id": "fb85b8c4ec0b40d09726f158d85936df",
       "version_major": 2,
       "version_minor": 0
      },
      "text/plain": [
       "VBox(children=(HTML(value=''), IntProgress(value=0, max=507)))"
      ]
     },
     "metadata": {},
     "output_type": "display_data"
    },
    {
     "name": "stdout",
     "output_type": "stream",
     "text": [
      "Accuracy: 58.57988165680474\n",
      "Anger 412/92 acc: 69.565217\n",
      "Disgust 143/44 acc: 43.181818\n",
      "Fear 259/49 acc: 36.734694\n",
      "Happiness 135/44 acc: 52.272727\n",
      "Neutral 141/54 acc: 22.222222\n",
      "Sadness 277/71 acc: 50.704225\n",
      "Surprise 657/153 acc: 81.699346\n",
      "              precision    recall  f1-score   support\n",
      "\n",
      "       Anger       0.60      0.70      0.65        92\n",
      "     Disgust       0.44      0.43      0.44        44\n",
      "        Fear       0.60      0.37      0.46        49\n",
      "       Happy       0.66      0.52      0.58        44\n",
      "     Neutral       0.57      0.22      0.32        54\n",
      "     Sadness       0.43      0.51      0.47        71\n",
      "    Surprise       0.66      0.82      0.73       153\n",
      "\n",
      "    accuracy                           0.59       507\n",
      "   macro avg       0.57      0.51      0.52       507\n",
      "weighted avg       0.58      0.59      0.57       507\n",
      "\n",
      "WARNING:tensorflow:No training configuration found in the save file, so the model was *not* compiled. Compile it manually.\n",
      "Training model number: 3\n",
      "Training on the last layer:\n",
      "Epoch 1/3\n",
      "25/25 [==============================] - 74s 3s/step - loss: 1.7978 - accuracy: 0.3138 - val_loss: 1.6714 - val_accuracy: 0.3792\n",
      "\n",
      "Epoch 00001: val_accuracy improved from -inf to 0.37917, saving model to Model_3.h5\n",
      "Epoch 2/3\n",
      "25/25 [==============================] - 70s 3s/step - loss: 1.5613 - accuracy: 0.4285 - val_loss: 1.5177 - val_accuracy: 0.4667\n",
      "\n",
      "Epoch 00002: val_accuracy improved from 0.37917 to 0.46667, saving model to Model_3.h5\n",
      "Epoch 3/3\n",
      "25/25 [==============================] - 66s 3s/step - loss: 1.4412 - accuracy: 0.4805 - val_loss: 1.4439 - val_accuracy: 0.4896\n",
      "\n",
      "Epoch 00003: val_accuracy improved from 0.46667 to 0.48958, saving model to Model_3.h5\n",
      "All tuning\n",
      "Epoch 4/8\n",
      "25/25 [==============================] - 313s 12s/step - loss: 1.3157 - accuracy: 0.5406 - val_loss: 1.4033 - val_accuracy: 0.4437\n",
      "\n",
      "Epoch 00004: val_accuracy improved from -inf to 0.44375, saving model to Model_3_ft.h5\n",
      "Epoch 5/8\n",
      "25/25 [==============================] - 307s 12s/step - loss: 1.0167 - accuracy: 0.6481 - val_loss: 1.1735 - val_accuracy: 0.5729\n",
      "\n",
      "Epoch 00005: val_accuracy improved from 0.44375 to 0.57292, saving model to Model_3_ft.h5\n",
      "Epoch 6/8\n",
      "25/25 [==============================] - 287s 11s/step - loss: 0.8544 - accuracy: 0.7032 - val_loss: 1.0814 - val_accuracy: 0.6250\n",
      "\n",
      "Epoch 00006: val_accuracy improved from 0.57292 to 0.62500, saving model to Model_3_ft.h5\n",
      "Epoch 7/8\n",
      "25/25 [==============================] - 275s 11s/step - loss: 0.7240 - accuracy: 0.7572 - val_loss: 1.0382 - val_accuracy: 0.6417\n",
      "\n",
      "Epoch 00007: val_accuracy improved from 0.62500 to 0.64167, saving model to Model_3_ft.h5\n",
      "Epoch 8/8\n",
      "25/25 [==============================] - 283s 11s/step - loss: 0.6067 - accuracy: 0.7963 - val_loss: 1.0435 - val_accuracy: 0.6354\n",
      "\n",
      "Epoch 00008: val_accuracy did not improve from 0.64167\n",
      "ALL SGD tuning\n"
     ]
    },
    {
     "name": "stderr",
     "output_type": "stream",
     "text": [
      "c:\\program files\\python38\\lib\\site-packages\\tensorflow\\python\\keras\\engine\\training.py:1940: UserWarning: `Model.fit_generator` is deprecated and will be removed in a future version. Please use `Model.fit`, which supports generators.\n",
      "  warnings.warn('`Model.fit_generator` is deprecated and '\n"
     ]
    },
    {
     "name": "stdout",
     "output_type": "stream",
     "text": [
      "Epoch 9/10\n",
      "25/25 [==============================] - 290s 11s/step - loss: 0.6417 - accuracy: 0.7747 - val_loss: 1.0258 - val_accuracy: 0.6354\n",
      "\n",
      "Epoch 00009: val_accuracy improved from -inf to 0.63542, saving model to Model_3_ft_sgd.h5\n",
      "Epoch 10/10\n",
      "25/25 [==============================] - 272s 11s/step - loss: 0.6246 - accuracy: 0.7912 - val_loss: 1.0338 - val_accuracy: 0.6354\n",
      "\n",
      "Epoch 00010: val_accuracy did not improve from 0.63542\n",
      "Model number: 3 compiled!\n"
     ]
    },
    {
     "data": {
      "application/vnd.jupyter.widget-view+json": {
       "model_id": "6beca3f8621e4e07bd95691efceabe36",
       "version_major": 2,
       "version_minor": 0
      },
      "text/plain": [
       "VBox(children=(HTML(value=''), IntProgress(value=0, max=507)))"
      ]
     },
     "metadata": {},
     "output_type": "display_data"
    },
    {
     "name": "stdout",
     "output_type": "stream",
     "text": [
      "Accuracy: 63.905325443786985\n",
      "Anger 414/90 acc: 81.111111\n",
      "Disgust 163/24 acc: 33.333333\n",
      "Fear 210/98 acc: 22.448980\n",
      "Happiness 160/19 acc: 63.157895\n",
      "Neutral 147/48 acc: 54.166667\n",
      "Sadness 270/79 acc: 77.215190\n",
      "Surprise 660/149 acc: 81.879195\n",
      "              precision    recall  f1-score   support\n",
      "\n",
      "       Anger       0.66      0.81      0.73        90\n",
      "     Disgust       0.47      0.33      0.39        24\n",
      "        Fear       0.76      0.22      0.35        98\n",
      "       Happy       0.80      0.63      0.71        19\n",
      "     Neutral       0.57      0.54      0.55        48\n",
      "     Sadness       0.59      0.77      0.67        79\n",
      "    Surprise       0.65      0.82      0.73       149\n",
      "\n",
      "    accuracy                           0.64       507\n",
      "   macro avg       0.64      0.59      0.59       507\n",
      "weighted avg       0.65      0.64      0.61       507\n",
      "\n",
      "WARNING:tensorflow:No training configuration found in the save file, so the model was *not* compiled. Compile it manually.\n",
      "Training model number: 4\n",
      "Training on the last layer:\n",
      "Epoch 1/3\n",
      "25/25 [==============================] - 72s 3s/step - loss: 1.9058 - accuracy: 0.3040 - val_loss: 1.7388 - val_accuracy: 0.3688\n",
      "\n",
      "Epoch 00001: val_accuracy improved from -inf to 0.36875, saving model to Model_4.h5\n",
      "Epoch 2/3\n",
      "25/25 [==============================] - 66s 3s/step - loss: 1.6340 - accuracy: 0.3863 - val_loss: 1.4838 - val_accuracy: 0.4500\n",
      "\n",
      "Epoch 00002: val_accuracy improved from 0.36875 to 0.45000, saving model to Model_4.h5\n",
      "Epoch 3/3\n",
      "25/25 [==============================] - 66s 3s/step - loss: 1.4838 - accuracy: 0.4516 - val_loss: 1.3675 - val_accuracy: 0.5063\n",
      "\n",
      "Epoch 00003: val_accuracy improved from 0.45000 to 0.50625, saving model to Model_4.h5\n",
      "All tuning\n",
      "Epoch 4/8\n",
      "25/25 [==============================] - 301s 12s/step - loss: 1.3053 - accuracy: 0.5422 - val_loss: 1.3241 - val_accuracy: 0.5292\n",
      "\n",
      "Epoch 00004: val_accuracy improved from -inf to 0.52917, saving model to Model_4_ft.h5\n",
      "Epoch 5/8\n",
      "25/25 [==============================] - 331s 13s/step - loss: 1.0240 - accuracy: 0.6502 - val_loss: 1.1811 - val_accuracy: 0.5750\n",
      "\n",
      "Epoch 00005: val_accuracy improved from 0.52917 to 0.57500, saving model to Model_4_ft.h5\n",
      "Epoch 6/8\n",
      "25/25 [==============================] - 330s 13s/step - loss: 0.8724 - accuracy: 0.6960 - val_loss: 1.0908 - val_accuracy: 0.6062\n",
      "\n",
      "Epoch 00006: val_accuracy improved from 0.57500 to 0.60625, saving model to Model_4_ft.h5\n",
      "Epoch 7/8\n",
      "25/25 [==============================] - 319s 13s/step - loss: 0.7513 - accuracy: 0.7464 - val_loss: 1.0387 - val_accuracy: 0.6250\n",
      "\n",
      "Epoch 00007: val_accuracy improved from 0.60625 to 0.62500, saving model to Model_4_ft.h5\n",
      "Epoch 8/8\n",
      "25/25 [==============================] - 299s 12s/step - loss: 0.6396 - accuracy: 0.7824 - val_loss: 1.0075 - val_accuracy: 0.6333\n",
      "\n",
      "Epoch 00008: val_accuracy improved from 0.62500 to 0.63333, saving model to Model_4_ft.h5\n",
      "ALL SGD tuning\n"
     ]
    },
    {
     "name": "stderr",
     "output_type": "stream",
     "text": [
      "c:\\program files\\python38\\lib\\site-packages\\tensorflow\\python\\keras\\engine\\training.py:1940: UserWarning: `Model.fit_generator` is deprecated and will be removed in a future version. Please use `Model.fit`, which supports generators.\n",
      "  warnings.warn('`Model.fit_generator` is deprecated and '\n"
     ]
    },
    {
     "name": "stdout",
     "output_type": "stream",
     "text": [
      "Epoch 9/10\n",
      "25/25 [==============================] - 291s 11s/step - loss: 0.5613 - accuracy: 0.8189 - val_loss: 1.0044 - val_accuracy: 0.6354\n",
      "\n",
      "Epoch 00009: val_accuracy improved from -inf to 0.63542, saving model to Model_4_ft_sgd.h5\n",
      "Epoch 10/10\n",
      "25/25 [==============================] - 286s 11s/step - loss: 0.5605 - accuracy: 0.8169 - val_loss: 0.9859 - val_accuracy: 0.6417\n",
      "\n",
      "Epoch 00010: val_accuracy improved from 0.63542 to 0.64167, saving model to Model_4_ft_sgd.h5\n",
      "Model number: 4 compiled!\n"
     ]
    },
    {
     "data": {
      "application/vnd.jupyter.widget-view+json": {
       "model_id": "24c094df32ce46fcb6fad831c92c164c",
       "version_major": 2,
       "version_minor": 0
      },
      "text/plain": [
       "VBox(children=(HTML(value=''), IntProgress(value=0, max=507)))"
      ]
     },
     "metadata": {},
     "output_type": "display_data"
    },
    {
     "name": "stdout",
     "output_type": "stream",
     "text": [
      "Accuracy: 63.905325443786985\n",
      "Anger 435/68 acc: 77.941176\n",
      "Disgust 158/29 acc: 51.724138\n",
      "Fear 237/71 acc: 15.492958\n",
      "Happiness 131/48 acc: 64.583333\n",
      "Neutral 159/36 acc: 44.444444\n",
      "Sadness 289/60 acc: 55.000000\n",
      "Surprise 615/195 acc: 84.615385\n",
      "              precision    recall  f1-score   support\n",
      "\n",
      "       Anger       0.60      0.78      0.68        68\n",
      "     Disgust       0.48      0.52      0.50        29\n",
      "        Fear       0.46      0.15      0.23        71\n",
      "       Happy       0.66      0.65      0.65        48\n",
      "     Neutral       0.38      0.44      0.41        36\n",
      "     Sadness       0.72      0.55      0.62        60\n",
      "    Surprise       0.72      0.85      0.78       195\n",
      "\n",
      "    accuracy                           0.64       507\n",
      "   macro avg       0.57      0.56      0.55       507\n",
      "weighted avg       0.62      0.64      0.62       507\n",
      "\n",
      "WARNING:tensorflow:No training configuration found in the save file, so the model was *not* compiled. Compile it manually.\n",
      "Training model number: 5\n",
      "Training on the last layer:\n",
      "Epoch 1/3\n",
      "25/25 [==============================] - 73s 3s/step - loss: 1.8391 - accuracy: 0.3205 - val_loss: 1.6421 - val_accuracy: 0.3917\n",
      "\n",
      "Epoch 00001: val_accuracy improved from -inf to 0.39167, saving model to Model_5.h5\n",
      "Epoch 2/3\n",
      "25/25 [==============================] - 66s 3s/step - loss: 1.5911 - accuracy: 0.4151 - val_loss: 1.5216 - val_accuracy: 0.4729\n",
      "\n",
      "Epoch 00002: val_accuracy improved from 0.39167 to 0.47292, saving model to Model_5.h5\n",
      "Epoch 3/3\n",
      "25/25 [==============================] - 66s 3s/step - loss: 1.4530 - accuracy: 0.4681 - val_loss: 1.4460 - val_accuracy: 0.4979\n",
      "\n",
      "Epoch 00003: val_accuracy improved from 0.47292 to 0.49792, saving model to Model_5.h5\n",
      "All tuning\n",
      "Epoch 4/8\n",
      "25/25 [==============================] - 289s 11s/step - loss: 1.3516 - accuracy: 0.5211 - val_loss: 1.5067 - val_accuracy: 0.4833\n",
      "\n",
      "Epoch 00004: val_accuracy improved from -inf to 0.48333, saving model to Model_5_ft.h5\n",
      "Epoch 5/8\n",
      "25/25 [==============================] - 280s 11s/step - loss: 1.0395 - accuracy: 0.6348 - val_loss: 1.3455 - val_accuracy: 0.5437\n",
      "\n",
      "Epoch 00005: val_accuracy improved from 0.48333 to 0.54375, saving model to Model_5_ft.h5\n",
      "Epoch 6/8\n",
      "25/25 [==============================] - 273s 11s/step - loss: 0.8764 - accuracy: 0.7011 - val_loss: 1.2499 - val_accuracy: 0.5458\n",
      "\n",
      "Epoch 00006: val_accuracy improved from 0.54375 to 0.54583, saving model to Model_5_ft.h5\n",
      "Epoch 7/8\n",
      "25/25 [==============================] - 271s 11s/step - loss: 0.7419 - accuracy: 0.7510 - val_loss: 1.2149 - val_accuracy: 0.5833\n",
      "\n",
      "Epoch 00007: val_accuracy improved from 0.54583 to 0.58333, saving model to Model_5_ft.h5\n",
      "Epoch 8/8\n",
      "25/25 [==============================] - 278s 11s/step - loss: 0.6063 - accuracy: 0.8045 - val_loss: 1.1827 - val_accuracy: 0.5688\n",
      "\n",
      "Epoch 00008: val_accuracy did not improve from 0.58333\n",
      "ALL SGD tuning\n"
     ]
    },
    {
     "name": "stderr",
     "output_type": "stream",
     "text": [
      "c:\\program files\\python38\\lib\\site-packages\\tensorflow\\python\\keras\\engine\\training.py:1940: UserWarning: `Model.fit_generator` is deprecated and will be removed in a future version. Please use `Model.fit`, which supports generators.\n",
      "  warnings.warn('`Model.fit_generator` is deprecated and '\n"
     ]
    },
    {
     "name": "stdout",
     "output_type": "stream",
     "text": [
      "Epoch 9/10\n",
      "25/25 [==============================] - 301s 12s/step - loss: 0.6522 - accuracy: 0.7978 - val_loss: 1.1873 - val_accuracy: 0.5979\n",
      "\n",
      "Epoch 00009: val_accuracy improved from -inf to 0.59792, saving model to Model_5_ft_sgd.h5\n",
      "Epoch 10/10\n",
      "25/25 [==============================] - 315s 13s/step - loss: 0.6384 - accuracy: 0.7906 - val_loss: 1.1842 - val_accuracy: 0.5917\n",
      "\n",
      "Epoch 00010: val_accuracy did not improve from 0.59792\n",
      "Model number: 5 compiled!\n"
     ]
    },
    {
     "data": {
      "application/vnd.jupyter.widget-view+json": {
       "model_id": "2dbef7becdb443eea12ce78d23582676",
       "version_major": 2,
       "version_minor": 0
      },
      "text/plain": [
       "VBox(children=(HTML(value=''), IntProgress(value=0, max=507)))"
      ]
     },
     "metadata": {},
     "output_type": "display_data"
    },
    {
     "name": "stdout",
     "output_type": "stream",
     "text": [
      "Accuracy: 59.36883629191321\n",
      "Anger 388/115 acc: 73.043478\n",
      "Disgust 152/35 acc: 22.857143\n",
      "Fear 272/36 acc: 13.888889\n",
      "Happiness 135/44 acc: 34.090909\n",
      "Neutral 169/26 acc: 46.153846\n",
      "Sadness 262/87 acc: 67.816092\n",
      "Surprise 646/164 acc: 71.951220\n",
      "              precision    recall  f1-score   support\n",
      "\n",
      "       Anger       0.53      0.73      0.62       115\n",
      "     Disgust       0.57      0.23      0.33        35\n",
      "        Fear       0.19      0.14      0.16        36\n",
      "       Happy       0.75      0.34      0.47        44\n",
      "     Neutral       0.27      0.46      0.34        26\n",
      "     Sadness       0.75      0.68      0.71        87\n",
      "    Surprise       0.72      0.72      0.72       164\n",
      "\n",
      "    accuracy                           0.59       507\n",
      "   macro avg       0.54      0.47      0.48       507\n",
      "weighted avg       0.61      0.59      0.59       507\n",
      "\n"
     ]
    }
   ],
   "source": [
    "# Cross Validation\n",
    "k = 1\n",
    "acc_per_fold = []\n",
    "loss_per_fold = []\n",
    "for (train, test) in zip(training_set, testing_set):\n",
    "    \n",
    "    # Downloading the pre-trained model\n",
    "    model = load_model(r'C:\\Users\\HP\\SLR\\models\\affectnet_emotions\\mobilenet_7.h5')\n",
    "    \n",
    "    def count_params(model):\n",
    "        non_trainable_params = np.sum([np.prod(v.get_shape().as_list()) for v in model.non_trainable_weights])\n",
    "        trainable_params = np.sum([np.prod(v.get_shape().as_list()) for v in model.trainable_weights])\n",
    "        return {'non_trainable_params': non_trainable_params, 'trainable_params': trainable_params}\n",
    "\n",
    "    params = count_params(model)\n",
    "    assert params['non_trainable_params'] == 21888\n",
    "    assert params['trainable_params'] == 3471175\n",
    "    \n",
    "    new_model = Sequential()\n",
    "    \n",
    "    # removing the last prediction layer \n",
    "    for layer in model.layers[:-1]:\n",
    "        new_model.add(layer)\n",
    "        \n",
    "    # freezing the previous layers\n",
    "    for layer in new_model.layers:\n",
    "        layer.trainable = False\n",
    "    \n",
    "    # adding a new dense layer \n",
    "    new_model.add(Dense(units=7, input_shape=(224,224), activation='softmax'))\n",
    "    \n",
    "    print(\"Training model number: \" + str(k))\n",
    "    \n",
    "    # training only the last layer \n",
    "    print(\"Training on the last layer:\")\n",
    "    params = count_params(new_model)\n",
    "    assert params['non_trainable_params'] == 3491264\n",
    "    # only the parameters in the last layer are trainable\n",
    "    assert params['trainable_params'] == 1799\n",
    "    \n",
    "    \n",
    "    new_model.compile(optimizer='adam', loss='categorical_crossentropy', metrics=['accuracy'])\n",
    "    nb_train_samples = 2024\n",
    "    nb_validation_samples = 507\n",
    "    \n",
    "    if k==1: net_description = 'Model_1.h5'\n",
    "    elif k==2: net_description = 'Model_2.h5'\n",
    "    elif k==3: net_description = 'Model_3.h5'\n",
    "    elif k==4: net_description = 'Model_4.h5'\n",
    "    elif k==5: net_description = 'Model_5.h5'\n",
    "   \n",
    "    mc = ModelCheckpoint(net_description, monitor='val_accuracy', verbose=1, save_best_only=True)\n",
    "    es=EarlyStopping(monitor='val_accuracy',patience=2)\n",
    "    FIRST_EPOCHS=3\n",
    "\n",
    "    hist1=new_model.fit(train, steps_per_epoch=nb_train_samples//BATCH_SIZE, epochs=FIRST_EPOCHS, verbose=1, \n",
    "                        initial_epoch=0, callbacks=[mc, es], validation_data=test, validation_steps=nb_validation_samples // BATCH_SIZE)\n",
    "    \n",
    "    \n",
    "    # Unfreezing the previous layer & retraining the model with all layers    \n",
    "    start_epoch=len(hist1.history['loss'])\n",
    "\n",
    "    for layer in new_model.layers:\n",
    "        layer.trainable = True\n",
    "\n",
    "    params = count_params(new_model)\n",
    "    assert params['non_trainable_params'] == 21888\n",
    "    # only the parameters in the last layer are trainable\n",
    "    assert params['trainable_params'] == 3471175 \n",
    "    \n",
    "    \n",
    "    new_model.load_weights(net_description)\n",
    "\n",
    "    new_model.compile(optimizer=Adam(learning_rate=1e-4,decay=1e-6), loss='categorical_crossentropy', metrics=['accuracy'])\n",
    "    \n",
    "    SECOND_EPOCHS=start_epoch+5\n",
    "    \n",
    "    if k==1: net_description = 'Model_1_ft.h5'\n",
    "    elif k==2: net_description = 'Model_2_ft.h5'\n",
    "    elif k==3: net_description = 'Model_3_ft.h5'\n",
    "    elif k==4: net_description = 'Model_4_ft.h5'\n",
    "    elif k==5: net_description = 'Model_5_ft.h5'\n",
    "    \n",
    "    mc = ModelCheckpoint(net_description, monitor='val_accuracy', verbose=1, save_best_only=True)\n",
    "    #es=EarlyStopping(monitor='val_accuracy',patience=2 )\n",
    "\n",
    "    print('All tuning')\n",
    "    hist2=new_model.fit(train, steps_per_epoch=train.samples//BATCH_SIZE, epochs=SECOND_EPOCHS, verbose=1, \n",
    "                        initial_epoch=start_epoch, validation_data=test, validation_steps=test.samples // BATCH_SIZE, callbacks=[mc])\n",
    "    \n",
    "    new_model.load_weights(net_description)\n",
    "    \n",
    "    new_model.compile(optimizer=SGD(learning_rate=1e-3), loss='categorical_crossentropy', metrics=['accuracy'])\n",
    "    \n",
    "    if k==1: net_description = 'Model_1_ft_sgd.h5'\n",
    "    elif k==2: net_description = 'Model_2_ft_sgd.h5'\n",
    "    elif k==3: net_description = 'Model_3_ft_sgd.h5'\n",
    "    elif k==4: net_description = 'Model_4_ft_sgd.h5'\n",
    "    elif k==5: net_description = 'Model_5_ft_sgd.h5'\n",
    "    \n",
    "    mc = ModelCheckpoint(net_description, monitor='val_accuracy', verbose=1, save_best_only=True)\n",
    "    second_epoch=start_epoch+len(hist2.history['loss'])\n",
    "    THIRD_EPOCHS=2+second_epoch\n",
    "\n",
    "    print('ALL SGD tuning')\n",
    "    hist3=new_model.fit_generator(train, steps_per_epoch=train.samples//BATCH_SIZE, epochs=THIRD_EPOCHS, verbose=1, \n",
    "                    initial_epoch=second_epoch, validation_data=test, validation_steps=test.samples // BATCH_SIZE,callbacks=[mc])\n",
    "    \n",
    "    print('Model number: ' + str(k) + ' compiled!')\n",
    "    \n",
    "    \n",
    "    # Evaluation\n",
    "    USE_PREPROCESSING=True\n",
    "    \n",
    "    import numpy as np\n",
    "    y_val=np.array(test.labels)\n",
    "    y_scores_val=[]\n",
    "    #new_model.load_weights(net_description+'_ft.h5')\n",
    "    for filepath in log_progress(test.filepaths):\n",
    "        img=cv2.imread(filepath)\n",
    "        img = cv2.cvtColor(img,cv2.COLOR_BGR2RGB)\n",
    "        img=cv2.resize(img,INPUT_SIZE)\n",
    "        if USE_PREPROCESSING:\n",
    "            inp = preprocessing_function(np.expand_dims(img, axis=0).astype(np.float32))\n",
    "        else:\n",
    "            inp=img.astype(np.float32)\n",
    "            inp[..., 0] -= 103.939\n",
    "            inp[..., 1] -= 116.779\n",
    "            inp[..., 2] -= 123.68\n",
    "            inp = np.expand_dims(inp, axis=0)\n",
    "\n",
    "        scores=new_model.predict(inp)\n",
    "        #print(scores)\n",
    "        y_scores_val.append(scores)\n",
    "\n",
    "    y_scores_val=np.concatenate(y_scores_val, axis=0)\n",
    "    \n",
    "    \n",
    "    # Accuracy\n",
    "    idx_to_class={0: 'Anger', 1: 'Disgust', 2: 'Fear', 3: 'Happiness', 4: 'Neutral', 5: 'Sadness', 6: 'Surprise'}\n",
    "\n",
    "    y_pred=np.argmax(y_scores_val,axis=1)\n",
    "    acc=100.0*(y_val==y_pred).sum()/len(y_val)\n",
    "    print('Accuracy:',acc)\n",
    "\n",
    "    y_train=np.array(train.labels)\n",
    "\n",
    "    for i in range(y_scores_val.shape[1]):\n",
    "        _val_acc=(y_pred[y_val==i]==i).sum()/(y_val==i).sum()\n",
    "        print('%s %d/%d acc: %f' %(idx_to_class[i],(y_train==i).sum(),(y_val==i).sum(),100*_val_acc))\n",
    "        \n",
    "        \n",
    "    from sklearn.metrics import classification_report\n",
    "\n",
    "    target_names = ['Anger', 'Disgust', 'Fear', 'Happy', 'Neutral', 'Sadness', 'Surprise']\n",
    "    print(classification_report(y_val, y_pred, target_names=target_names))\n",
    "    \n",
    "          \n",
    "    k=k+1\n",
    "\n",
    "    "
   ]
  },
  {
   "cell_type": "markdown",
   "id": "d9cbdab3",
   "metadata": {},
   "source": [
    "# Confusion Matrix"
   ]
  },
  {
   "cell_type": "code",
   "execution_count": 21,
   "id": "0249d8d3",
   "metadata": {},
   "outputs": [
    {
     "name": "stdout",
     "output_type": "stream",
     "text": [
      "Found 507 images belonging to 7 classes.\n"
     ]
    },
    {
     "data": {
      "application/vnd.jupyter.widget-view+json": {
       "model_id": "c90865657f2a4551ad6d1007d031c86a",
       "version_major": 2,
       "version_minor": 0
      },
      "text/plain": [
       "VBox(children=(HTML(value=''), IntProgress(value=0, max=507)))"
      ]
     },
     "metadata": {},
     "output_type": "display_data"
    },
    {
     "name": "stdout",
     "output_type": "stream",
     "text": [
      "[[ 96  13  13   4   4   4  10]\n",
      " [ 11  32   4   2   0   6   0]\n",
      " [  6   1  16   1   1   9  20]\n",
      " [  0   2   1  13   5   1   2]\n",
      " [  0   0   0   0  26   0   5]\n",
      " [ 16   2   1   1   1  18  12]\n",
      " [  8   0   2   0   0   4 134]]\n"
     ]
    },
    {
     "data": {
      "image/png": "[encoded data removed]",
      "text/plain": [
       "<Figure size 432x288 with 2 Axes>"
      ]
     },
     "metadata": {
      "needs_background": "light"
     },
     "output_type": "display_data"
    }
   ],
   "source": [
    "from sklearn.metrics import confusion_matrix, ConfusionMatrixDisplay\n",
    "import matplotlib.pyplot as plt     \n",
    "\n",
    "new_model_1 = load_model(r'C:\\Users\\HP\\SLR\\crossVal\\MobileNet\\Model_1_ft_sgd.h5')\n",
    "\n",
    "target_size = (224, 224)\n",
    "USE_PREPROCESSING=True\n",
    "BATCH_SIZE = 80\n",
    "\n",
    "test_datagen = ImageDataGenerator(preprocessing_function=preprocessing_function)\n",
    "\n",
    "test_set_1 = test_datagen.flow_from_directory(r'C:\\Users\\HP\\SLR\\crossVal\\Data\\fold_1_c\\test_files',\n",
    "                                              target_size=target_size,batch_size=BATCH_SIZE, \n",
    "                                              class_mode='categorical',follow_links=True)\n",
    "\n",
    "idx_to_class={0: 'Anger', 1: 'Disgust', 2: 'Fear', 3: 'Happiness', 4: 'Neutral', 5: 'Sadness', 6: 'Surprise'}\n",
    "\n",
    "import numpy as np\n",
    "y_val=np.array(test_set.labels)\n",
    "y_scores_val=[]\n",
    "#new_model.load_weights(net_description+'_ft.h5')\n",
    "for filepath in log_progress(test_set_1.filepaths):\n",
    "    img=cv2.imread(filepath)\n",
    "    img = cv2.cvtColor(img,cv2.COLOR_BGR2RGB)\n",
    "    img=cv2.resize(img,INPUT_SIZE)\n",
    "    if USE_PREPROCESSING:\n",
    "        inp = preprocessing_function(np.expand_dims(img, axis=0).astype(np.float32))\n",
    "    else:\n",
    "        inp=img.astype(np.float32)\n",
    "        inp[..., 0] -= 103.939\n",
    "        inp[..., 1] -= 116.779\n",
    "        inp[..., 2] -= 123.68\n",
    "        inp = np.expand_dims(inp, axis=0)\n",
    "\n",
    "    scores=new_model_1.predict(inp)\n",
    "    #print(scores)\n",
    "    y_scores_val.append(scores)\n",
    "\n",
    "y_scores_val=np.concatenate(y_scores_val, axis=0)\n",
    "#print(y_scores_val.shape,y_val.shape)\n",
    "\n",
    "y_pred=np.argmax(y_scores_val,axis=1)\n",
    "\n",
    "#ax.xaxis.set_ticklabels(['anger', 'disgust', 'fear', 'happiness', 'neutral', 'sadness', 'surprise']); \n",
    "#ax.yaxis.set_ticklabels(['surprise', 'sadness', 'neutral','happiness','fear','disgust','anger']);\n",
    "\n",
    "cm = confusion_matrix(y_val, y_pred)\n",
    "print(cm)\n",
    "\n",
    "cmd_obj = ConfusionMatrixDisplay(cm, display_labels=['anger', 'disgust', 'fear', 'happiness', 'neutral', 'sadness', 'surprise'])\n",
    "cmd_obj.plot()\n",
    "\n",
    "cmd_obj.ax_.set(\n",
    "                title='Sklearn Confusion Matrix with labels!!', \n",
    "                xlabel='Predicted Emotions', \n",
    "                ylabel='Actual Emotions')\n",
    "\n",
    "plt.show()"
   ]
  },
  {
   "cell_type": "markdown",
   "id": "e23eb659",
   "metadata": {},
   "source": [
    "# Making a single prediction"
   ]
  },
  {
   "cell_type": "code",
   "execution_count": 12,
   "id": "23fdac7f",
   "metadata": {},
   "outputs": [
    {
     "ename": "NotFoundError",
     "evalue": "NewRandomAccessFile failed to Create/Open: C:\\Users\\HP\\SLR\\crossVal\\MobileNet\\..\\models\\pretrained_faces\\mtcnn.pb : The system cannot find the path specified.\r\n; No such process",
     "output_type": "error",
     "traceback": [
      "\u001b[1;31m---------------------------------------------------------------------------\u001b[0m",
      "\u001b[1;31mNotFoundError\u001b[0m                             Traceback (most recent call last)",
      "\u001b[1;32m<ipython-input-12-709da56fd8b5>\u001b[0m in \u001b[0;36m<module>\u001b[1;34m\u001b[0m\n\u001b[0;32m      1\u001b[0m \u001b[1;32mfrom\u001b[0m \u001b[0mfacial_analysis\u001b[0m \u001b[1;32mimport\u001b[0m \u001b[0mFacialImageProcessing\u001b[0m\u001b[1;33m\u001b[0m\u001b[1;33m\u001b[0m\u001b[0m\n\u001b[1;32m----> 2\u001b[1;33m \u001b[0mimgProcessing\u001b[0m\u001b[1;33m=\u001b[0m\u001b[0mFacialImageProcessing\u001b[0m\u001b[1;33m(\u001b[0m\u001b[1;32mFalse\u001b[0m\u001b[1;33m)\u001b[0m\u001b[1;33m\u001b[0m\u001b[1;33m\u001b[0m\u001b[0m\n\u001b[0m",
      "\u001b[1;32m~\\SLR\\crossVal\\MobileNet\\facial_analysis.py\u001b[0m in \u001b[0;36m__init__\u001b[1;34m(self, print_stat, minsize)\u001b[0m\n\u001b[0;32m     40\u001b[0m         \u001b[1;32mwith\u001b[0m \u001b[0mtf\u001b[0m\u001b[1;33m.\u001b[0m\u001b[0mGraph\u001b[0m\u001b[1;33m(\u001b[0m\u001b[1;33m)\u001b[0m\u001b[1;33m.\u001b[0m\u001b[0mas_default\u001b[0m\u001b[1;33m(\u001b[0m\u001b[1;33m)\u001b[0m \u001b[1;32mas\u001b[0m \u001b[0mfull_graph\u001b[0m\u001b[1;33m:\u001b[0m\u001b[1;33m\u001b[0m\u001b[1;33m\u001b[0m\u001b[0m\n\u001b[0;32m     41\u001b[0m             \u001b[1;32mfor\u001b[0m \u001b[0mmodel_file\u001b[0m \u001b[1;32min\u001b[0m \u001b[0mmodel_files\u001b[0m\u001b[1;33m:\u001b[0m\u001b[1;33m\u001b[0m\u001b[1;33m\u001b[0m\u001b[0m\n\u001b[1;32m---> 42\u001b[1;33m                 \u001b[0mtf\u001b[0m\u001b[1;33m.\u001b[0m\u001b[0mimport_graph_def\u001b[0m\u001b[1;33m(\u001b[0m\u001b[0mFacialImageProcessing\u001b[0m\u001b[1;33m.\u001b[0m\u001b[0mload_graph_def\u001b[0m\u001b[1;33m(\u001b[0m\u001b[0mmodel_file\u001b[0m\u001b[1;33m)\u001b[0m\u001b[1;33m,\u001b[0m \u001b[0mname\u001b[0m\u001b[1;33m=\u001b[0m\u001b[0mmodel_files\u001b[0m\u001b[1;33m[\u001b[0m\u001b[0mmodel_file\u001b[0m\u001b[1;33m]\u001b[0m\u001b[1;33m)\u001b[0m\u001b[1;33m\u001b[0m\u001b[1;33m\u001b[0m\u001b[0m\n\u001b[0m\u001b[0;32m     43\u001b[0m         \u001b[0mself\u001b[0m\u001b[1;33m.\u001b[0m\u001b[0msess\u001b[0m\u001b[1;33m=\u001b[0m\u001b[0mtf\u001b[0m\u001b[1;33m.\u001b[0m\u001b[0mcompat\u001b[0m\u001b[1;33m.\u001b[0m\u001b[0mv1\u001b[0m\u001b[1;33m.\u001b[0m\u001b[0mSession\u001b[0m\u001b[1;33m(\u001b[0m\u001b[0mgraph\u001b[0m\u001b[1;33m=\u001b[0m\u001b[0mfull_graph\u001b[0m\u001b[1;33m)\u001b[0m\u001b[1;31m#,config=tf.ConfigProto(device_count={'CPU':1,'GPU':0}))\u001b[0m\u001b[1;33m\u001b[0m\u001b[1;33m\u001b[0m\u001b[0m\n\u001b[0;32m     44\u001b[0m         \u001b[0mself\u001b[0m\u001b[1;33m.\u001b[0m\u001b[0mpnet\u001b[0m\u001b[1;33m,\u001b[0m \u001b[0mself\u001b[0m\u001b[1;33m.\u001b[0m\u001b[0mrnet\u001b[0m\u001b[1;33m,\u001b[0m \u001b[0mself\u001b[0m\u001b[1;33m.\u001b[0m\u001b[0monet\u001b[0m \u001b[1;33m=\u001b[0m \u001b[0mFacialImageProcessing\u001b[0m\u001b[1;33m.\u001b[0m\u001b[0mload_mtcnn\u001b[0m\u001b[1;33m(\u001b[0m\u001b[0mself\u001b[0m\u001b[1;33m.\u001b[0m\u001b[0msess\u001b[0m\u001b[1;33m,\u001b[0m\u001b[0mfull_graph\u001b[0m\u001b[1;33m)\u001b[0m\u001b[1;33m\u001b[0m\u001b[1;33m\u001b[0m\u001b[0m\n",
      "\u001b[1;32m~\\SLR\\crossVal\\MobileNet\\facial_analysis.py\u001b[0m in \u001b[0;36mload_graph_def\u001b[1;34m(frozen_graph_filename)\u001b[0m\n\u001b[0;32m     52\u001b[0m         \u001b[1;32mwith\u001b[0m \u001b[0mtf\u001b[0m\u001b[1;33m.\u001b[0m\u001b[0mio\u001b[0m\u001b[1;33m.\u001b[0m\u001b[0mgfile\u001b[0m\u001b[1;33m.\u001b[0m\u001b[0mGFile\u001b[0m\u001b[1;33m(\u001b[0m\u001b[0mfrozen_graph_filename\u001b[0m\u001b[1;33m,\u001b[0m \u001b[1;34m'rb'\u001b[0m\u001b[1;33m)\u001b[0m \u001b[1;32mas\u001b[0m \u001b[0mf\u001b[0m\u001b[1;33m:\u001b[0m\u001b[1;33m\u001b[0m\u001b[1;33m\u001b[0m\u001b[0m\n\u001b[0;32m     53\u001b[0m             \u001b[0mgraph_def\u001b[0m \u001b[1;33m=\u001b[0m \u001b[0mtf\u001b[0m\u001b[1;33m.\u001b[0m\u001b[0mcompat\u001b[0m\u001b[1;33m.\u001b[0m\u001b[0mv1\u001b[0m\u001b[1;33m.\u001b[0m\u001b[0mGraphDef\u001b[0m\u001b[1;33m(\u001b[0m\u001b[1;33m)\u001b[0m\u001b[1;33m\u001b[0m\u001b[1;33m\u001b[0m\u001b[0m\n\u001b[1;32m---> 54\u001b[1;33m             \u001b[0mgraph_def\u001b[0m\u001b[1;33m.\u001b[0m\u001b[0mParseFromString\u001b[0m\u001b[1;33m(\u001b[0m\u001b[0mf\u001b[0m\u001b[1;33m.\u001b[0m\u001b[0mread\u001b[0m\u001b[1;33m(\u001b[0m\u001b[1;33m)\u001b[0m\u001b[1;33m)\u001b[0m\u001b[1;33m\u001b[0m\u001b[1;33m\u001b[0m\u001b[0m\n\u001b[0m\u001b[0;32m     55\u001b[0m         \u001b[1;32mreturn\u001b[0m \u001b[0mgraph_def\u001b[0m\u001b[1;33m\u001b[0m\u001b[1;33m\u001b[0m\u001b[0m\n\u001b[0;32m     56\u001b[0m \u001b[1;33m\u001b[0m\u001b[0m\n",
      "\u001b[1;32mc:\\program files\\python38\\lib\\site-packages\\tensorflow\\python\\lib\\io\\file_io.py\u001b[0m in \u001b[0;36mread\u001b[1;34m(self, n)\u001b[0m\n\u001b[0;32m    115\u001b[0m       \u001b[0mstring\u001b[0m \u001b[1;32mif\u001b[0m \u001b[1;32min\u001b[0m \u001b[0mstring\u001b[0m \u001b[1;33m(\u001b[0m\u001b[0mregular\u001b[0m\u001b[1;33m)\u001b[0m \u001b[0mmode\u001b[0m\u001b[1;33m.\u001b[0m\u001b[1;33m\u001b[0m\u001b[1;33m\u001b[0m\u001b[0m\n\u001b[0;32m    116\u001b[0m     \"\"\"\n\u001b[1;32m--> 117\u001b[1;33m     \u001b[0mself\u001b[0m\u001b[1;33m.\u001b[0m\u001b[0m_preread_check\u001b[0m\u001b[1;33m(\u001b[0m\u001b[1;33m)\u001b[0m\u001b[1;33m\u001b[0m\u001b[1;33m\u001b[0m\u001b[0m\n\u001b[0m\u001b[0;32m    118\u001b[0m     \u001b[1;32mif\u001b[0m \u001b[0mn\u001b[0m \u001b[1;33m==\u001b[0m \u001b[1;33m-\u001b[0m\u001b[1;36m1\u001b[0m\u001b[1;33m:\u001b[0m\u001b[1;33m\u001b[0m\u001b[1;33m\u001b[0m\u001b[0m\n\u001b[0;32m    119\u001b[0m       \u001b[0mlength\u001b[0m \u001b[1;33m=\u001b[0m \u001b[0mself\u001b[0m\u001b[1;33m.\u001b[0m\u001b[0msize\u001b[0m\u001b[1;33m(\u001b[0m\u001b[1;33m)\u001b[0m \u001b[1;33m-\u001b[0m \u001b[0mself\u001b[0m\u001b[1;33m.\u001b[0m\u001b[0mtell\u001b[0m\u001b[1;33m(\u001b[0m\u001b[1;33m)\u001b[0m\u001b[1;33m\u001b[0m\u001b[1;33m\u001b[0m\u001b[0m\n",
      "\u001b[1;32mc:\\program files\\python38\\lib\\site-packages\\tensorflow\\python\\lib\\io\\file_io.py\u001b[0m in \u001b[0;36m_preread_check\u001b[1;34m(self)\u001b[0m\n\u001b[0;32m     77\u001b[0m         raise errors.PermissionDeniedError(None, None,\n\u001b[0;32m     78\u001b[0m                                            \"File isn't open for reading\")\n\u001b[1;32m---> 79\u001b[1;33m       self._read_buf = _pywrap_file_io.BufferedInputStream(\n\u001b[0m\u001b[0;32m     80\u001b[0m           compat.path_to_str(self.__name), 1024 * 512)\n\u001b[0;32m     81\u001b[0m \u001b[1;33m\u001b[0m\u001b[0m\n",
      "\u001b[1;31mNotFoundError\u001b[0m: NewRandomAccessFile failed to Create/Open: C:\\Users\\HP\\SLR\\crossVal\\MobileNet\\..\\models\\pretrained_faces\\mtcnn.pb : The system cannot find the path specified.\r\n; No such process"
     ]
    }
   ],
   "source": [
    "from facial_analysis import FacialImageProcessing\n",
    "imgProcessing=FacialImageProcessing(False)"
   ]
  },
  {
   "cell_type": "code",
   "execution_count": 41,
   "id": "7a350b9d",
   "metadata": {},
   "outputs": [
    {
     "name": "stdout",
     "output_type": "stream",
     "text": [
      "[[0.16298212 0.03912505 0.18231936 0.04156695 0.29077086 0.25950918\n",
      "  0.02372642]]\n"
     ]
    },
    {
     "data": {
      "image/png": "[encoded data removed]",
      "text/plain": [
       "<Figure size 432x288 with 1 Axes>"
      ]
     },
     "metadata": {
      "needs_background": "light"
     },
     "output_type": "display_data"
    }
   ],
   "source": [
    "# For image 02August_2010_Monday_heute_default-7.avi_pid0_fn000008-0.png\n",
    "\n",
    "INPUT_SIZE = (224, 224)\n",
    "idx_to_class={0: 'Anger', 1: 'Disgust', 2: 'Fear', 3: 'Happiness', 4: 'Neutral', 5: 'Sadness', 6: 'Surprise'}\n",
    "filename = r'C:\\Users\\HP\\SLR\\test_files_1_sorted\\07January_2010_Thursday_tagesschau_default-5.avi_pid0_fn000045-0.png'\n",
    "\n",
    "img = plt.imread(filename)\n",
    "img = cv2.cvtColor(img,cv2.COLOR_BGR2RGB)\n",
    "img=cv2.resize(img,INPUT_SIZE)\n",
    "frame_bgr=cv2.imread(filename)\n",
    "frame = cv2.cvtColor(frame_bgr, cv2.COLOR_BGR2RGB)\n",
    "plt.imshow(frame)\n",
    "bounding_boxes, points = imgProcessing.detect_faces(frame)\n",
    "points = points.T\n",
    "for bbox,p in zip(bounding_boxes, points):\n",
    "    box = bbox.astype(np.int)\n",
    "    x1,y1,x2,y2=box[0:4]    \n",
    "    face_img=frame[y1:y2,x1:x2,:]\n",
    "\n",
    "    face_img=cv2.resize(face_img,INPUT_SIZE)\n",
    "\n",
    "    plt.imshow(face_img)\n",
    "\n",
    "    inp=face_img.astype(np.float32)\n",
    "    inp[..., 0] -= 103.939\n",
    "    inp[..., 1] -= 116.779\n",
    "    inp[..., 2] -= 123.68\n",
    "    inp = np.expand_dims(inp, axis=0)\n",
    "    scores=new_model.predict(inp)\n",
    "    plt.title(idx_to_class[np.argmax(scores)])\n",
    "\n",
    "    print(scores)"
   ]
  },
  {
   "cell_type": "code",
   "execution_count": null,
   "id": "9b141153",
   "metadata": {},
   "outputs": [],
   "source": []
  }
 ],
 "metadata": {
  "kernelspec": {
   "display_name": "Python 3",
   "language": "python",
   "name": "python3"
  },
  "language_info": {
   "codemirror_mode": {
    "name": "ipython",
    "version": 3
   },
   "file_extension": ".py",
   "mimetype": "text/x-python",
   "name": "python",
   "nbconvert_exporter": "python",
   "pygments_lexer": "ipython3",
   "version": "3.8.2"
  }
 },
 "nbformat": 4,
 "nbformat_minor": 5
}
