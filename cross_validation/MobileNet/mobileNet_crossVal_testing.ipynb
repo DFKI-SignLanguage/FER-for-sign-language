{
 "cells": [
  {
   "cell_type": "code",
   "execution_count": 1,
   "id": "db2be90d",
   "metadata": {},
   "outputs": [
    {
     "name": "stdout",
     "output_type": "stream",
     "text": [
      "WARNING:tensorflow:No training configuration found in the save file, so the model was *not* compiled. Compile it manually.\n",
      "Model: \"model_2\"\n",
      "_________________________________________________________________\n",
      "Layer (type)                 Output Shape              Param #   \n",
      "=================================================================\n",
      "input_1 (InputLayer)         [(None, 224, 224, 3)]     0         \n",
      "_________________________________________________________________\n",
      "conv1_pad (ZeroPadding2D)    (None, 225, 225, 3)       0         \n",
      "_________________________________________________________________\n",
      "conv1 (Conv2D)               (None, 112, 112, 32)      864       \n",
      "_________________________________________________________________\n",
      "conv1_bn (BatchNormalization (None, 112, 112, 32)      128       \n",
      "_________________________________________________________________\n",
      "conv1_relu (ReLU)            (None, 112, 112, 32)      0         \n",
      "_________________________________________________________________\n",
      "conv_dw_1 (DepthwiseConv2D)  (None, 112, 112, 32)      288       \n",
      "_________________________________________________________________\n",
      "conv_dw_1_bn (BatchNormaliza (None, 112, 112, 32)      128       \n",
      "_________________________________________________________________\n",
      "conv_dw_1_relu (ReLU)        (None, 112, 112, 32)      0         \n",
      "_________________________________________________________________\n",
      "conv_pw_1 (Conv2D)           (None, 112, 112, 64)      2048      \n",
      "_________________________________________________________________\n",
      "conv_pw_1_bn (BatchNormaliza (None, 112, 112, 64)      256       \n",
      "_________________________________________________________________\n",
      "conv_pw_1_relu (ReLU)        (None, 112, 112, 64)      0         \n",
      "_________________________________________________________________\n",
      "conv_pad_2 (ZeroPadding2D)   (None, 113, 113, 64)      0         \n",
      "_________________________________________________________________\n",
      "conv_dw_2 (DepthwiseConv2D)  (None, 56, 56, 64)        576       \n",
      "_________________________________________________________________\n",
      "conv_dw_2_bn (BatchNormaliza (None, 56, 56, 64)        256       \n",
      "_________________________________________________________________\n",
      "conv_dw_2_relu (ReLU)        (None, 56, 56, 64)        0         \n",
      "_________________________________________________________________\n",
      "conv_pw_2 (Conv2D)           (None, 56, 56, 128)       8192      \n",
      "_________________________________________________________________\n",
      "conv_pw_2_bn (BatchNormaliza (None, 56, 56, 128)       512       \n",
      "_________________________________________________________________\n",
      "conv_pw_2_relu (ReLU)        (None, 56, 56, 128)       0         \n",
      "_________________________________________________________________\n",
      "conv_dw_3 (DepthwiseConv2D)  (None, 56, 56, 128)       1152      \n",
      "_________________________________________________________________\n",
      "conv_dw_3_bn (BatchNormaliza (None, 56, 56, 128)       512       \n",
      "_________________________________________________________________\n",
      "conv_dw_3_relu (ReLU)        (None, 56, 56, 128)       0         \n",
      "_________________________________________________________________\n",
      "conv_pw_3 (Conv2D)           (None, 56, 56, 128)       16384     \n",
      "_________________________________________________________________\n",
      "conv_pw_3_bn (BatchNormaliza (None, 56, 56, 128)       512       \n",
      "_________________________________________________________________\n",
      "conv_pw_3_relu (ReLU)        (None, 56, 56, 128)       0         \n",
      "_________________________________________________________________\n",
      "conv_pad_4 (ZeroPadding2D)   (None, 57, 57, 128)       0         \n",
      "_________________________________________________________________\n",
      "conv_dw_4 (DepthwiseConv2D)  (None, 28, 28, 128)       1152      \n",
      "_________________________________________________________________\n",
      "conv_dw_4_bn (BatchNormaliza (None, 28, 28, 128)       512       \n",
      "_________________________________________________________________\n",
      "conv_dw_4_relu (ReLU)        (None, 28, 28, 128)       0         \n",
      "_________________________________________________________________\n",
      "conv_pw_4 (Conv2D)           (None, 28, 28, 256)       32768     \n",
      "_________________________________________________________________\n",
      "conv_pw_4_bn (BatchNormaliza (None, 28, 28, 256)       1024      \n",
      "_________________________________________________________________\n",
      "conv_pw_4_relu (ReLU)        (None, 28, 28, 256)       0         \n",
      "_________________________________________________________________\n",
      "conv_dw_5 (DepthwiseConv2D)  (None, 28, 28, 256)       2304      \n",
      "_________________________________________________________________\n",
      "conv_dw_5_bn (BatchNormaliza (None, 28, 28, 256)       1024      \n",
      "_________________________________________________________________\n",
      "conv_dw_5_relu (ReLU)        (None, 28, 28, 256)       0         \n",
      "_________________________________________________________________\n",
      "conv_pw_5 (Conv2D)           (None, 28, 28, 256)       65536     \n",
      "_________________________________________________________________\n",
      "conv_pw_5_bn (BatchNormaliza (None, 28, 28, 256)       1024      \n",
      "_________________________________________________________________\n",
      "conv_pw_5_relu (ReLU)        (None, 28, 28, 256)       0         \n",
      "_________________________________________________________________\n",
      "conv_pad_6 (ZeroPadding2D)   (None, 29, 29, 256)       0         \n",
      "_________________________________________________________________\n",
      "conv_dw_6 (DepthwiseConv2D)  (None, 14, 14, 256)       2304      \n",
      "_________________________________________________________________\n",
      "conv_dw_6_bn (BatchNormaliza (None, 14, 14, 256)       1024      \n",
      "_________________________________________________________________\n",
      "conv_dw_6_relu (ReLU)        (None, 14, 14, 256)       0         \n",
      "_________________________________________________________________\n",
      "conv_pw_6 (Conv2D)           (None, 14, 14, 512)       131072    \n",
      "_________________________________________________________________\n",
      "conv_pw_6_bn (BatchNormaliza (None, 14, 14, 512)       2048      \n",
      "_________________________________________________________________\n",
      "conv_pw_6_relu (ReLU)        (None, 14, 14, 512)       0         \n",
      "_________________________________________________________________\n",
      "conv_dw_7 (DepthwiseConv2D)  (None, 14, 14, 512)       4608      \n",
      "_________________________________________________________________\n",
      "conv_dw_7_bn (BatchNormaliza (None, 14, 14, 512)       2048      \n",
      "_________________________________________________________________\n",
      "conv_dw_7_relu (ReLU)        (None, 14, 14, 512)       0         \n",
      "_________________________________________________________________\n",
      "conv_pw_7 (Conv2D)           (None, 14, 14, 512)       262144    \n",
      "_________________________________________________________________\n",
      "conv_pw_7_bn (BatchNormaliza (None, 14, 14, 512)       2048      \n",
      "_________________________________________________________________\n",
      "conv_pw_7_relu (ReLU)        (None, 14, 14, 512)       0         \n",
      "_________________________________________________________________\n",
      "conv_dw_8 (DepthwiseConv2D)  (None, 14, 14, 512)       4608      \n",
      "_________________________________________________________________\n",
      "conv_dw_8_bn (BatchNormaliza (None, 14, 14, 512)       2048      \n",
      "_________________________________________________________________\n",
      "conv_dw_8_relu (ReLU)        (None, 14, 14, 512)       0         \n",
      "_________________________________________________________________\n",
      "conv_pw_8 (Conv2D)           (None, 14, 14, 512)       262144    \n",
      "_________________________________________________________________\n",
      "conv_pw_8_bn (BatchNormaliza (None, 14, 14, 512)       2048      \n",
      "_________________________________________________________________\n",
      "conv_pw_8_relu (ReLU)        (None, 14, 14, 512)       0         \n",
      "_________________________________________________________________\n",
      "conv_dw_9 (DepthwiseConv2D)  (None, 14, 14, 512)       4608      \n",
      "_________________________________________________________________\n",
      "conv_dw_9_bn (BatchNormaliza (None, 14, 14, 512)       2048      \n",
      "_________________________________________________________________\n",
      "conv_dw_9_relu (ReLU)        (None, 14, 14, 512)       0         \n",
      "_________________________________________________________________\n",
      "conv_pw_9 (Conv2D)           (None, 14, 14, 512)       262144    \n",
      "_________________________________________________________________\n",
      "conv_pw_9_bn (BatchNormaliza (None, 14, 14, 512)       2048      \n",
      "_________________________________________________________________\n",
      "conv_pw_9_relu (ReLU)        (None, 14, 14, 512)       0         \n",
      "_________________________________________________________________\n",
      "conv_dw_10 (DepthwiseConv2D) (None, 14, 14, 512)       4608      \n",
      "_________________________________________________________________\n",
      "conv_dw_10_bn (BatchNormaliz (None, 14, 14, 512)       2048      \n",
      "_________________________________________________________________\n",
      "conv_dw_10_relu (ReLU)       (None, 14, 14, 512)       0         \n",
      "_________________________________________________________________\n",
      "conv_pw_10 (Conv2D)          (None, 14, 14, 512)       262144    \n",
      "_________________________________________________________________\n",
      "conv_pw_10_bn (BatchNormaliz (None, 14, 14, 512)       2048      \n",
      "_________________________________________________________________\n",
      "conv_pw_10_relu (ReLU)       (None, 14, 14, 512)       0         \n",
      "_________________________________________________________________\n",
      "conv_dw_11 (DepthwiseConv2D) (None, 14, 14, 512)       4608      \n",
      "_________________________________________________________________\n",
      "conv_dw_11_bn (BatchNormaliz (None, 14, 14, 512)       2048      \n",
      "_________________________________________________________________\n",
      "conv_dw_11_relu (ReLU)       (None, 14, 14, 512)       0         \n",
      "_________________________________________________________________\n",
      "conv_pw_11 (Conv2D)          (None, 14, 14, 512)       262144    \n",
      "_________________________________________________________________\n",
      "conv_pw_11_bn (BatchNormaliz (None, 14, 14, 512)       2048      \n",
      "_________________________________________________________________\n",
      "conv_pw_11_relu (ReLU)       (None, 14, 14, 512)       0         \n",
      "_________________________________________________________________\n",
      "conv_pad_12 (ZeroPadding2D)  (None, 15, 15, 512)       0         \n",
      "_________________________________________________________________\n",
      "conv_dw_12 (DepthwiseConv2D) (None, 7, 7, 512)         4608      \n",
      "_________________________________________________________________\n",
      "conv_dw_12_bn (BatchNormaliz (None, 7, 7, 512)         2048      \n",
      "_________________________________________________________________\n",
      "conv_dw_12_relu (ReLU)       (None, 7, 7, 512)         0         \n",
      "_________________________________________________________________\n",
      "conv_pw_12 (Conv2D)          (None, 7, 7, 1024)        524288    \n",
      "_________________________________________________________________\n",
      "conv_pw_12_bn (BatchNormaliz (None, 7, 7, 1024)        4096      \n",
      "_________________________________________________________________\n",
      "conv_pw_12_relu (ReLU)       (None, 7, 7, 1024)        0         \n",
      "_________________________________________________________________\n",
      "conv_dw_13 (DepthwiseConv2D) (None, 7, 7, 1024)        9216      \n",
      "_________________________________________________________________\n",
      "conv_dw_13_bn (BatchNormaliz (None, 7, 7, 1024)        4096      \n",
      "_________________________________________________________________\n",
      "conv_dw_13_relu (ReLU)       (None, 7, 7, 1024)        0         \n",
      "_________________________________________________________________\n",
      "conv_pw_13 (Conv2D)          (None, 7, 7, 1024)        1048576   \n",
      "_________________________________________________________________\n",
      "conv_pw_13_bn (BatchNormaliz (None, 7, 7, 1024)        4096      \n",
      "_________________________________________________________________\n",
      "conv_pw_13_relu (ReLU)       (None, 7, 7, 1024)        0         \n",
      "_________________________________________________________________\n",
      "global_pooling (GlobalAverag (None, 1024)              0         \n",
      "_________________________________________________________________\n",
      "dropout_1 (Dropout)          (None, 1024)              0         \n",
      "_________________________________________________________________\n",
      "feats (Dense)                (None, 256)               262400    \n",
      "_________________________________________________________________\n",
      "emotion_preds (Dense)        (None, 7)                 1799      \n",
      "=================================================================\n",
      "Total params: 3,493,063\n",
      "Trainable params: 3,471,175\n",
      "Non-trainable params: 21,888\n",
      "_________________________________________________________________\n",
      "(224, 224)\n"
     ]
    }
   ],
   "source": [
    "import os\n",
    "from tensorflow.keras.models import load_model\n",
    "\n",
    "new_model = load_model(r'C:\\Users\\HP\\SLR\\models\\affectnet_emotions\\mobilenet_7.h5')\n",
    "new_model.summary()\n",
    "\n",
    "def mobilenet_preprocess_input(x,**kwargs):\n",
    "        x[..., 0] -= 103.939\n",
    "        x[..., 1] -= 116.779\n",
    "        x[..., 2] -= 123.68\n",
    "        return x\n",
    "preprocessing_function=mobilenet_preprocess_input\n",
    "\n",
    "INPUT_SIZE = (224,224)\n",
    "USE_PREPROCESSING=True\n",
    "print(INPUT_SIZE)"
   ]
  },
  {
   "cell_type": "code",
   "execution_count": 2,
   "id": "772b9907",
   "metadata": {},
   "outputs": [],
   "source": [
    "import tensorflow as tf\n",
    "import pandas as pd\n",
    "import cv2\n",
    "import os\n",
    "import numpy as np\n",
    "from sklearn.preprocessing import LabelEncoder\n",
    "import matplotlib.pyplot as plt\n",
    "import cv2\n",
    "from PIL import Image\n",
    "from random import shuffle\n",
    "from tqdm import tqdm\n",
    "import pandas as pd\n",
    "\n",
    "import pickle\n",
    "\n",
    "from sklearn.svm import SVC,LinearSVC\n",
    "from sklearn.ensemble import RandomForestClassifier, BaggingClassifier,ExtraTreesClassifier\n",
    "from sklearn.neural_network import MLPClassifier\n",
    "from sklearn import preprocessing\n",
    "import matplotlib.pyplot as plt\n",
    "import matplotlib.image as mpimg\n",
    "from tensorflow.keras.preprocessing.image import ImageDataGenerator\n",
    "\n",
    "from tensorflow.keras.models import Model,Sequential, load_model,model_from_json\n",
    "from tensorflow.keras.applications import mobilenet,mobilenet_v2,densenet,inception_resnet_v2,inception_v3,vgg16,resnet_v2,resnet\n",
    "#from tensorflow.keras.utils.generic_utils import CustomObjectScope\n",
    "from tensorflow.keras.layers import Flatten, Dense, Dropout,GlobalAveragePooling2D,Activation, Conv2D, Reshape,DepthwiseConv2D,Input\n",
    "from tensorflow.keras.optimizers import SGD, Adam\n",
    "from tensorflow.keras.utils import to_categorical\n",
    "from tensorflow.keras.callbacks import ModelCheckpoint, TensorBoard, Callback, CSVLogger, EarlyStopping\n",
    "from tensorflow.keras.metrics import top_k_categorical_accuracy\n",
    "import numpy as np\n",
    "from sklearn.metrics import confusion_matrix\n",
    "from tensorflow.keras.preprocessing.image import ImageDataGenerator\n",
    "\n",
    "from tensorflow.compat.v1.keras.backend import set_session \n"
   ]
  },
  {
   "cell_type": "code",
   "execution_count": 3,
   "id": "e2c98699",
   "metadata": {},
   "outputs": [],
   "source": [
    "new_model.load_weights(r'C:\\Users\\HP\\SLR\\models\\affectnet_emotions\\mobilenet_7.h5')"
   ]
  },
  {
   "cell_type": "code",
   "execution_count": 4,
   "id": "5cff4faa",
   "metadata": {},
   "outputs": [
    {
     "name": "stdout",
     "output_type": "stream",
     "text": [
      "Found 507 images belonging to 7 classes.\n",
      "Found 507 images belonging to 7 classes.\n",
      "Found 507 images belonging to 7 classes.\n",
      "Found 507 images belonging to 7 classes.\n",
      "Found 507 images belonging to 7 classes.\n"
     ]
    }
   ],
   "source": [
    "target_size = (224, 224)\n",
    "BATCH_SIZE = 80\n",
    "\n",
    "test_datagen = ImageDataGenerator(preprocessing_function=preprocessing_function)\n",
    "\n",
    "test_set_1 = test_datagen.flow_from_directory(r'C:\\Users\\HP\\SLR\\crossVal\\Data\\fold_1_c\\test_files',\n",
    "                                            target_size=target_size,\n",
    "                                            batch_size=BATCH_SIZE, class_mode='categorical',follow_links=True)\n",
    "\n",
    "\n",
    "test_set_2 = test_datagen.flow_from_directory(r'C:\\Users\\HP\\SLR\\crossVal\\Data\\fold_2_c\\test_files',\n",
    "                                            target_size=target_size,\n",
    "                                            batch_size=BATCH_SIZE, class_mode='categorical',follow_links=True)\n",
    "\n",
    "\n",
    "test_set_3 = test_datagen.flow_from_directory(r'C:\\Users\\HP\\SLR\\crossVal\\Data\\fold_3_c\\test_files',\n",
    "                                            target_size=target_size,\n",
    "                                            batch_size=BATCH_SIZE, class_mode='categorical',follow_links=True)\n",
    "\n",
    "\n",
    "test_set_4 = test_datagen.flow_from_directory(r'C:\\Users\\HP\\SLR\\crossVal\\Data\\fold_4_c\\test_files',\n",
    "                                            target_size=target_size,\n",
    "                                            batch_size=BATCH_SIZE, class_mode='categorical',follow_links=True)\n",
    "\n",
    "\n",
    "test_set_5 = test_datagen.flow_from_directory(r'C:\\Users\\HP\\SLR\\crossVal\\Data\\fold_5_c\\test_files',\n",
    "                                            target_size=target_size,\n",
    "                                            batch_size=BATCH_SIZE, class_mode='categorical',follow_links=True)"
   ]
  },
  {
   "cell_type": "code",
   "execution_count": 5,
   "id": "6f961233",
   "metadata": {},
   "outputs": [],
   "source": [
    "def log_progress(sequence, every=None, size=None, name='Items'):\n",
    "    from ipywidgets import IntProgress, HTML, VBox\n",
    "    from IPython.display import display\n",
    "\n",
    "    is_iterator = False\n",
    "    if size is None:\n",
    "        try:\n",
    "            size = len(sequence)\n",
    "        except TypeError:\n",
    "            is_iterator = True\n",
    "    if size is not None:\n",
    "        if every is None:\n",
    "            if size <= 200:\n",
    "                every = 1\n",
    "            else:\n",
    "                every = int(size / 200)     # every 0.5%\n",
    "    else:\n",
    "        assert every is not None, 'sequence is iterator, set every'\n",
    "\n",
    "    if is_iterator:\n",
    "        progress = IntProgress(min=0, max=1, value=1)\n",
    "        progress.bar_style = 'info'\n",
    "    else:\n",
    "        progress = IntProgress(min=0, max=size, value=0)\n",
    "    label = HTML()\n",
    "    box = VBox(children=[label, progress])\n",
    "    display(box)\n",
    "\n",
    "    index = 0\n",
    "    try:\n",
    "        for index, record in enumerate(sequence, 1):\n",
    "            if index == 1 or index % every == 0:\n",
    "                if is_iterator:\n",
    "                    label.value = '{name}: {index} / ?'.format(\n",
    "                        name=name,\n",
    "                        index=index\n",
    "                    )\n",
    "                else:\n",
    "                    progress.value = index\n",
    "                    label.value = u'{name}: {index} / {size}'.format(\n",
    "                        name=name,\n",
    "                        index=index,\n",
    "                        size=size\n",
    "                    )\n",
    "            yield record\n",
    "    except:\n",
    "        progress.bar_style = 'danger'\n",
    "        raise\n",
    "    else:\n",
    "        progress.bar_style = 'success'\n",
    "        progress.value = index\n",
    "        label.value = \"{name}: {index}\".format(\n",
    "            name=name,\n",
    "            index=str(index or '?')\n",
    "        )"
   ]
  },
  {
   "cell_type": "code",
   "execution_count": 6,
   "id": "58782274",
   "metadata": {},
   "outputs": [],
   "source": [
    "idx_to_class={0: 'Anger', 1: 'Disgust', 2: 'Fear', 3: 'Happiness', 4: 'Neutral', 5: 'Sadness', 6: 'Surprise'}"
   ]
  },
  {
   "cell_type": "code",
   "execution_count": 7,
   "id": "de0a1914",
   "metadata": {},
   "outputs": [],
   "source": [
    "testing_set = [test_set_1, test_set_2, test_set_3, test_set_4, test_set_5]"
   ]
  },
  {
   "cell_type": "code",
   "execution_count": 8,
   "id": "319f9207",
   "metadata": {},
   "outputs": [
    {
     "name": "stdout",
     "output_type": "stream",
     "text": [
      "Fold 1\n"
     ]
    },
    {
     "data": {
      "application/vnd.jupyter.widget-view+json": {
       "model_id": "5dcc2ff3b4fe4997a7183ac65b30b335",
       "version_major": 2,
       "version_minor": 0
      },
      "text/plain": [
       "VBox(children=(HTML(value=''), IntProgress(value=0, max=507)))"
      ]
     },
     "metadata": {},
     "output_type": "display_data"
    },
    {
     "name": "stdout",
     "output_type": "stream",
     "text": [
      "40.433925049309664\n",
      "Anger acc: 32.638889\n",
      "Disgust acc: 58.181818\n",
      "Fear acc: 42.592593\n",
      "Happiness acc: 16.666667\n",
      "Neutral acc: 16.129032\n",
      "Sadness acc: 5.882353\n",
      "Surprise acc: 61.486486\n",
      "              precision    recall  f1-score   support\n",
      "\n",
      "       Anger       0.76      0.33      0.46       144\n",
      "     Disgust       0.31      0.58      0.40        55\n",
      "        Fear       0.24      0.43      0.31        54\n",
      "       Happy       0.15      0.17      0.16        24\n",
      "     Neutral       0.21      0.16      0.18        31\n",
      "     Sadness       0.25      0.06      0.10        51\n",
      "    Surprise       0.50      0.61      0.55       148\n",
      "\n",
      "    accuracy                           0.40       507\n",
      "   macro avg       0.34      0.33      0.31       507\n",
      "weighted avg       0.47      0.40      0.40       507\n",
      "\n",
      "Fold 2\n"
     ]
    },
    {
     "data": {
      "application/vnd.jupyter.widget-view+json": {
       "model_id": "1ae6a6ca7d8344d9ac87219175c8dccc",
       "version_major": 2,
       "version_minor": 0
      },
      "text/plain": [
       "VBox(children=(HTML(value=''), IntProgress(value=0, max=507)))"
      ]
     },
     "metadata": {},
     "output_type": "display_data"
    },
    {
     "name": "stdout",
     "output_type": "stream",
     "text": [
      "48.12623274161736\n",
      "Anger acc: 51.086957\n",
      "Disgust acc: 59.090909\n",
      "Fear acc: 4.081633\n",
      "Happiness acc: 56.818182\n",
      "Neutral acc: 27.777778\n",
      "Sadness acc: 22.535211\n",
      "Surprise acc: 73.856209\n",
      "              precision    recall  f1-score   support\n",
      "\n",
      "       Anger       0.71      0.51      0.59        92\n",
      "     Disgust       0.26      0.59      0.36        44\n",
      "        Fear       0.04      0.04      0.04        49\n",
      "       Happy       0.64      0.57      0.60        44\n",
      "     Neutral       0.44      0.28      0.34        54\n",
      "     Sadness       0.64      0.23      0.33        71\n",
      "    Surprise       0.58      0.74      0.65       153\n",
      "\n",
      "    accuracy                           0.48       507\n",
      "   macro avg       0.47      0.42      0.42       507\n",
      "weighted avg       0.52      0.48      0.47       507\n",
      "\n",
      "Fold 3\n"
     ]
    },
    {
     "data": {
      "application/vnd.jupyter.widget-view+json": {
       "model_id": "a6a4c0993d1f4f5e920bb81cee6ca793",
       "version_major": 2,
       "version_minor": 0
      },
      "text/plain": [
       "VBox(children=(HTML(value=''), IntProgress(value=0, max=507)))"
      ]
     },
     "metadata": {},
     "output_type": "display_data"
    },
    {
     "name": "stdout",
     "output_type": "stream",
     "text": [
      "42.80078895463511\n",
      "Anger acc: 43.333333\n",
      "Disgust acc: 62.500000\n",
      "Fear acc: 27.551020\n",
      "Happiness acc: 57.894737\n",
      "Neutral acc: 27.083333\n",
      "Sadness acc: 31.645570\n",
      "Surprise acc: 58.389262\n",
      "              precision    recall  f1-score   support\n",
      "\n",
      "       Anger       0.60      0.43      0.50        90\n",
      "     Disgust       0.13      0.62      0.22        24\n",
      "        Fear       0.34      0.28      0.31        98\n",
      "       Happy       0.61      0.58      0.59        19\n",
      "     Neutral       0.42      0.27      0.33        48\n",
      "     Sadness       0.60      0.32      0.41        79\n",
      "    Surprise       0.54      0.58      0.56       149\n",
      "\n",
      "    accuracy                           0.43       507\n",
      "   macro avg       0.46      0.44      0.42       507\n",
      "weighted avg       0.49      0.43      0.44       507\n",
      "\n",
      "Fold 4\n"
     ]
    },
    {
     "data": {
      "application/vnd.jupyter.widget-view+json": {
       "model_id": "eb2c7aaa7bb24b79826a61746c114971",
       "version_major": 2,
       "version_minor": 0
      },
      "text/plain": [
       "VBox(children=(HTML(value=''), IntProgress(value=0, max=507)))"
      ]
     },
     "metadata": {},
     "output_type": "display_data"
    },
    {
     "name": "stdout",
     "output_type": "stream",
     "text": [
      "50.887573964497044\n",
      "Anger acc: 60.294118\n",
      "Disgust acc: 55.172414\n",
      "Fear acc: 29.577465\n",
      "Happiness acc: 70.833333\n",
      "Neutral acc: 13.888889\n",
      "Sadness acc: 10.000000\n",
      "Surprise acc: 69.230769\n",
      "              precision    recall  f1-score   support\n",
      "\n",
      "       Anger       0.76      0.60      0.67        68\n",
      "     Disgust       0.16      0.55      0.25        29\n",
      "        Fear       0.30      0.30      0.30        71\n",
      "       Happy       0.68      0.71      0.69        48\n",
      "     Neutral       0.21      0.14      0.17        36\n",
      "     Sadness       0.75      0.10      0.18        60\n",
      "    Surprise       0.67      0.69      0.68       195\n",
      "\n",
      "    accuracy                           0.51       507\n",
      "   macro avg       0.50      0.44      0.42       507\n",
      "weighted avg       0.58      0.51      0.51       507\n",
      "\n",
      "Fold 5\n"
     ]
    },
    {
     "data": {
      "application/vnd.jupyter.widget-view+json": {
       "model_id": "2a42874cb86f4a0281701417e68347e1",
       "version_major": 2,
       "version_minor": 0
      },
      "text/plain": [
       "VBox(children=(HTML(value=''), IntProgress(value=0, max=507)))"
      ]
     },
     "metadata": {},
     "output_type": "display_data"
    },
    {
     "name": "stdout",
     "output_type": "stream",
     "text": [
      "38.46153846153846\n",
      "Anger acc: 34.782609\n",
      "Disgust acc: 57.142857\n",
      "Fear acc: 25.000000\n",
      "Happiness acc: 34.090909\n",
      "Neutral acc: 19.230769\n",
      "Sadness acc: 16.091954\n",
      "Surprise acc: 56.097561\n",
      "              precision    recall  f1-score   support\n",
      "\n",
      "       Anger       0.63      0.35      0.45       115\n",
      "     Disgust       0.15      0.57      0.23        35\n",
      "        Fear       0.12      0.25      0.16        36\n",
      "       Happy       0.83      0.34      0.48        44\n",
      "     Neutral       0.20      0.19      0.20        26\n",
      "     Sadness       0.61      0.16      0.25        87\n",
      "    Surprise       0.55      0.56      0.55       164\n",
      "\n",
      "    accuracy                           0.38       507\n",
      "   macro avg       0.44      0.35      0.33       507\n",
      "weighted avg       0.53      0.38      0.40       507\n",
      "\n"
     ]
    }
   ],
   "source": [
    "import numpy as np\n",
    "from sklearn.metrics import classification_report\n",
    "USE_PREPROCESSING=True\n",
    "\n",
    "k = 1\n",
    "\n",
    "targets = ['anger','disgust','fear','happy','neutral','sad','surprise']\n",
    "\n",
    "for test_set in testing_set:\n",
    "    \n",
    "    print('Fold ' + str(k))\n",
    "    \n",
    "    y_val=np.array(test_set.labels)\n",
    "    y_scores_val=[]\n",
    "    #new_model.load_weights(net_description+'_ft.h5')\n",
    "    for filepath in log_progress(test_set.filepaths):\n",
    "        img=cv2.imread(filepath)\n",
    "        img = cv2.cvtColor(img,cv2.COLOR_BGR2RGB)\n",
    "        img=cv2.resize(img,INPUT_SIZE)\n",
    "        if USE_PREPROCESSING:\n",
    "            inp = preprocessing_function(np.expand_dims(img, axis=0).astype(np.float32))\n",
    "        else:\n",
    "            inp=img.astype(np.float32)\n",
    "            inp[..., 0] -= 103.939\n",
    "            inp[..., 1] -= 116.779\n",
    "            inp[..., 2] -= 123.68\n",
    "            inp = np.expand_dims(inp, axis=0)\n",
    "\n",
    "        scores=new_model.predict(inp)\n",
    "        #print(scores)\n",
    "        y_scores_val.append(scores)\n",
    "\n",
    "    y_scores_val=np.concatenate(y_scores_val, axis=0)\n",
    "    #print(y_scores_val.shape,y_val.shape)\n",
    "    \n",
    "    y_pred=np.argmax(y_scores_val,axis=1)\n",
    "    acc=100.0*(y_val==y_pred).sum()/len(y_val)\n",
    "    print(acc)\n",
    "\n",
    "    for i in range(y_scores_val.shape[1]):\n",
    "        _val_acc=(y_pred[y_val==i]==i).sum()/(y_val==i).sum()\n",
    "        print('%s acc: %f' %(idx_to_class[i],100*_val_acc))\n",
    "\n",
    "    target_names = ['Anger', 'Disgust', 'Fear', 'Happy', 'Neutral', 'Sadness', 'Surprise']\n",
    "    print(classification_report(y_val, y_pred, target_names=target_names))\n",
    "\n",
    "    k = k+1"
   ]
  },
  {
   "cell_type": "markdown",
   "id": "56eddbd4",
   "metadata": {},
   "source": [
    "# Confusion Matrix"
   ]
  },
  {
   "cell_type": "code",
   "execution_count": 11,
   "id": "669a286b",
   "metadata": {},
   "outputs": [
    {
     "name": "stdout",
     "output_type": "stream",
     "text": [
      "0.5165463163597038\n"
     ]
    }
   ],
   "source": [
    "# Weighted accuracy\n",
    "\n",
    "from sklearn.metrics import f1_score\n",
    "w_acc = f1_score(y_val, y_pred, average='weighted')\n",
    "print(w_acc)"
   ]
  },
  {
   "cell_type": "code",
   "execution_count": 12,
   "id": "e17928db",
   "metadata": {},
   "outputs": [
    {
     "name": "stdout",
     "output_type": "stream",
     "text": [
      "dict_values(['Anger', 'Disgust', 'Fear', 'Happiness', 'Neutral', 'Sadness', 'Surprise'])\n",
      "[[0.54014599 0.27737226 0.08029197 0.         0.01459854 0.00729927\n",
      "  0.08029197]\n",
      " [0.06451613 0.74193548 0.03225806 0.09677419 0.         0.\n",
      "  0.06451613]\n",
      " [0.         0.31578947 0.26315789 0.         0.01754386 0.05263158\n",
      "  0.35087719]\n",
      " [0.         0.05263158 0.         0.15789474 0.         0.05263158\n",
      "  0.73684211]\n",
      " [0.02380952 0.07142857 0.04761905 0.23809524 0.26190476 0.0952381\n",
      "  0.26190476]\n",
      " [0.18644068 0.33898305 0.08474576 0.03389831 0.06779661 0.11864407\n",
      "  0.16949153]\n",
      " [0.01197605 0.05389222 0.08383234 0.         0.00598802 0.04790419\n",
      "  0.79640719]]\n"
     ]
    }
   ],
   "source": [
    "from sklearn.metrics import confusion_matrix\n",
    "cm=confusion_matrix(y_val, y_pred, normalize='true')\n",
    "print(idx_to_class.values())\n",
    "print(cm)"
   ]
  },
  {
   "cell_type": "markdown",
   "id": "d5875f40",
   "metadata": {},
   "source": [
    "# Sensitivity"
   ]
  },
  {
   "cell_type": "code",
   "execution_count": 13,
   "id": "e5743665",
   "metadata": {},
   "outputs": [
    {
     "name": "stdout",
     "output_type": "stream",
     "text": [
      "Sensitivity :  0.6607142857142857\n"
     ]
    }
   ],
   "source": [
    "sensitivity = cm[0,0]/(cm[0,0]+cm[0,1])\n",
    "print('Sensitivity : ', sensitivity )\n",
    "\n",
    "#TP/(TP+FN) - Sensitivity per class"
   ]
  },
  {
   "cell_type": "code",
   "execution_count": 14,
   "id": "85307de9",
   "metadata": {},
   "outputs": [
    {
     "name": "stdout",
     "output_type": "stream",
     "text": [
      "[0.54014599 0.74193548 0.26315789 0.15789474 0.26190476 0.11864407\n",
      " 0.79640719]\n"
     ]
    }
   ],
   "source": [
    "# Sensitivity per class\n",
    "\n",
    "from sklearn.metrics import recall_score\n",
    "sensitivity_per_class = recall_score(y_val,y_pred,average=None)\n",
    "print(sensitivity_per_class)"
   ]
  }
 ],
 "metadata": {
  "kernelspec": {
   "display_name": "Python 3",
   "language": "python",
   "name": "python3"
  },
  "language_info": {
   "codemirror_mode": {
    "name": "ipython",
    "version": 3
   },
   "file_extension": ".py",
   "mimetype": "text/x-python",
   "name": "python",
   "nbconvert_exporter": "python",
   "pygments_lexer": "ipython3",
   "version": "3.8.2"
  }
 },
 "nbformat": 4,
 "nbformat_minor": 5
}
